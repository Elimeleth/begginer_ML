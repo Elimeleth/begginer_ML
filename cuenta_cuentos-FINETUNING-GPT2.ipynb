{
  "nbformat": 4,
  "nbformat_minor": 0,
  "metadata": {
    "colab": {
      "provenance": []
    },
    "kernelspec": {
      "name": "python3",
      "display_name": "Python 3"
    },
    "language_info": {
      "name": "python"
    },
    "accelerator": "GPU",
    "gpuClass": "standard",
    "widgets": {
      "application/vnd.jupyter.widget-state+json": {
        "d50c3bda21ab4082ad32964e8b3a8a11": {
          "model_module": "@jupyter-widgets/controls",
          "model_name": "HBoxModel",
          "model_module_version": "1.5.0",
          "state": {
            "_dom_classes": [],
            "_model_module": "@jupyter-widgets/controls",
            "_model_module_version": "1.5.0",
            "_model_name": "HBoxModel",
            "_view_count": null,
            "_view_module": "@jupyter-widgets/controls",
            "_view_module_version": "1.5.0",
            "_view_name": "HBoxView",
            "box_style": "",
            "children": [
              "IPY_MODEL_7d1b3da0da0346fc828deb0c5706588c",
              "IPY_MODEL_46b1536df8c84b02a3e41480e27346f9",
              "IPY_MODEL_0eef4fea28b24cc3af2698f6fa090131"
            ],
            "layout": "IPY_MODEL_0334503ce93a4efcb9665b1af5094745"
          }
        },
        "7d1b3da0da0346fc828deb0c5706588c": {
          "model_module": "@jupyter-widgets/controls",
          "model_name": "HTMLModel",
          "model_module_version": "1.5.0",
          "state": {
            "_dom_classes": [],
            "_model_module": "@jupyter-widgets/controls",
            "_model_module_version": "1.5.0",
            "_model_name": "HTMLModel",
            "_view_count": null,
            "_view_module": "@jupyter-widgets/controls",
            "_view_module_version": "1.5.0",
            "_view_name": "HTMLView",
            "description": "",
            "description_tooltip": null,
            "layout": "IPY_MODEL_76febb58eec74dfba3809feb5e5844da",
            "placeholder": "​",
            "style": "IPY_MODEL_892213bed6bd46c2804b0c66e7c26d5e",
            "value": "Downloading (…)okenizer_config.json: 100%"
          }
        },
        "46b1536df8c84b02a3e41480e27346f9": {
          "model_module": "@jupyter-widgets/controls",
          "model_name": "FloatProgressModel",
          "model_module_version": "1.5.0",
          "state": {
            "_dom_classes": [],
            "_model_module": "@jupyter-widgets/controls",
            "_model_module_version": "1.5.0",
            "_model_name": "FloatProgressModel",
            "_view_count": null,
            "_view_module": "@jupyter-widgets/controls",
            "_view_module_version": "1.5.0",
            "_view_name": "ProgressView",
            "bar_style": "success",
            "description": "",
            "description_tooltip": null,
            "layout": "IPY_MODEL_a9f3753ab01642a097943b1ccc95c689",
            "max": 115,
            "min": 0,
            "orientation": "horizontal",
            "style": "IPY_MODEL_74e0c311c71c4f65aeb5463ba7528a35",
            "value": 115
          }
        },
        "0eef4fea28b24cc3af2698f6fa090131": {
          "model_module": "@jupyter-widgets/controls",
          "model_name": "HTMLModel",
          "model_module_version": "1.5.0",
          "state": {
            "_dom_classes": [],
            "_model_module": "@jupyter-widgets/controls",
            "_model_module_version": "1.5.0",
            "_model_name": "HTMLModel",
            "_view_count": null,
            "_view_module": "@jupyter-widgets/controls",
            "_view_module_version": "1.5.0",
            "_view_name": "HTMLView",
            "description": "",
            "description_tooltip": null,
            "layout": "IPY_MODEL_ff72793673d74e42ac016723eea48638",
            "placeholder": "​",
            "style": "IPY_MODEL_c632ccbd4e9a4931a8456a2d196fa6dc",
            "value": " 115/115 [00:00&lt;00:00, 2.85kB/s]"
          }
        },
        "0334503ce93a4efcb9665b1af5094745": {
          "model_module": "@jupyter-widgets/base",
          "model_name": "LayoutModel",
          "model_module_version": "1.2.0",
          "state": {
            "_model_module": "@jupyter-widgets/base",
            "_model_module_version": "1.2.0",
            "_model_name": "LayoutModel",
            "_view_count": null,
            "_view_module": "@jupyter-widgets/base",
            "_view_module_version": "1.2.0",
            "_view_name": "LayoutView",
            "align_content": null,
            "align_items": null,
            "align_self": null,
            "border": null,
            "bottom": null,
            "display": null,
            "flex": null,
            "flex_flow": null,
            "grid_area": null,
            "grid_auto_columns": null,
            "grid_auto_flow": null,
            "grid_auto_rows": null,
            "grid_column": null,
            "grid_gap": null,
            "grid_row": null,
            "grid_template_areas": null,
            "grid_template_columns": null,
            "grid_template_rows": null,
            "height": null,
            "justify_content": null,
            "justify_items": null,
            "left": null,
            "margin": null,
            "max_height": null,
            "max_width": null,
            "min_height": null,
            "min_width": null,
            "object_fit": null,
            "object_position": null,
            "order": null,
            "overflow": null,
            "overflow_x": null,
            "overflow_y": null,
            "padding": null,
            "right": null,
            "top": null,
            "visibility": null,
            "width": null
          }
        },
        "76febb58eec74dfba3809feb5e5844da": {
          "model_module": "@jupyter-widgets/base",
          "model_name": "LayoutModel",
          "model_module_version": "1.2.0",
          "state": {
            "_model_module": "@jupyter-widgets/base",
            "_model_module_version": "1.2.0",
            "_model_name": "LayoutModel",
            "_view_count": null,
            "_view_module": "@jupyter-widgets/base",
            "_view_module_version": "1.2.0",
            "_view_name": "LayoutView",
            "align_content": null,
            "align_items": null,
            "align_self": null,
            "border": null,
            "bottom": null,
            "display": null,
            "flex": null,
            "flex_flow": null,
            "grid_area": null,
            "grid_auto_columns": null,
            "grid_auto_flow": null,
            "grid_auto_rows": null,
            "grid_column": null,
            "grid_gap": null,
            "grid_row": null,
            "grid_template_areas": null,
            "grid_template_columns": null,
            "grid_template_rows": null,
            "height": null,
            "justify_content": null,
            "justify_items": null,
            "left": null,
            "margin": null,
            "max_height": null,
            "max_width": null,
            "min_height": null,
            "min_width": null,
            "object_fit": null,
            "object_position": null,
            "order": null,
            "overflow": null,
            "overflow_x": null,
            "overflow_y": null,
            "padding": null,
            "right": null,
            "top": null,
            "visibility": null,
            "width": null
          }
        },
        "892213bed6bd46c2804b0c66e7c26d5e": {
          "model_module": "@jupyter-widgets/controls",
          "model_name": "DescriptionStyleModel",
          "model_module_version": "1.5.0",
          "state": {
            "_model_module": "@jupyter-widgets/controls",
            "_model_module_version": "1.5.0",
            "_model_name": "DescriptionStyleModel",
            "_view_count": null,
            "_view_module": "@jupyter-widgets/base",
            "_view_module_version": "1.2.0",
            "_view_name": "StyleView",
            "description_width": ""
          }
        },
        "a9f3753ab01642a097943b1ccc95c689": {
          "model_module": "@jupyter-widgets/base",
          "model_name": "LayoutModel",
          "model_module_version": "1.2.0",
          "state": {
            "_model_module": "@jupyter-widgets/base",
            "_model_module_version": "1.2.0",
            "_model_name": "LayoutModel",
            "_view_count": null,
            "_view_module": "@jupyter-widgets/base",
            "_view_module_version": "1.2.0",
            "_view_name": "LayoutView",
            "align_content": null,
            "align_items": null,
            "align_self": null,
            "border": null,
            "bottom": null,
            "display": null,
            "flex": null,
            "flex_flow": null,
            "grid_area": null,
            "grid_auto_columns": null,
            "grid_auto_flow": null,
            "grid_auto_rows": null,
            "grid_column": null,
            "grid_gap": null,
            "grid_row": null,
            "grid_template_areas": null,
            "grid_template_columns": null,
            "grid_template_rows": null,
            "height": null,
            "justify_content": null,
            "justify_items": null,
            "left": null,
            "margin": null,
            "max_height": null,
            "max_width": null,
            "min_height": null,
            "min_width": null,
            "object_fit": null,
            "object_position": null,
            "order": null,
            "overflow": null,
            "overflow_x": null,
            "overflow_y": null,
            "padding": null,
            "right": null,
            "top": null,
            "visibility": null,
            "width": null
          }
        },
        "74e0c311c71c4f65aeb5463ba7528a35": {
          "model_module": "@jupyter-widgets/controls",
          "model_name": "ProgressStyleModel",
          "model_module_version": "1.5.0",
          "state": {
            "_model_module": "@jupyter-widgets/controls",
            "_model_module_version": "1.5.0",
            "_model_name": "ProgressStyleModel",
            "_view_count": null,
            "_view_module": "@jupyter-widgets/base",
            "_view_module_version": "1.2.0",
            "_view_name": "StyleView",
            "bar_color": null,
            "description_width": ""
          }
        },
        "ff72793673d74e42ac016723eea48638": {
          "model_module": "@jupyter-widgets/base",
          "model_name": "LayoutModel",
          "model_module_version": "1.2.0",
          "state": {
            "_model_module": "@jupyter-widgets/base",
            "_model_module_version": "1.2.0",
            "_model_name": "LayoutModel",
            "_view_count": null,
            "_view_module": "@jupyter-widgets/base",
            "_view_module_version": "1.2.0",
            "_view_name": "LayoutView",
            "align_content": null,
            "align_items": null,
            "align_self": null,
            "border": null,
            "bottom": null,
            "display": null,
            "flex": null,
            "flex_flow": null,
            "grid_area": null,
            "grid_auto_columns": null,
            "grid_auto_flow": null,
            "grid_auto_rows": null,
            "grid_column": null,
            "grid_gap": null,
            "grid_row": null,
            "grid_template_areas": null,
            "grid_template_columns": null,
            "grid_template_rows": null,
            "height": null,
            "justify_content": null,
            "justify_items": null,
            "left": null,
            "margin": null,
            "max_height": null,
            "max_width": null,
            "min_height": null,
            "min_width": null,
            "object_fit": null,
            "object_position": null,
            "order": null,
            "overflow": null,
            "overflow_x": null,
            "overflow_y": null,
            "padding": null,
            "right": null,
            "top": null,
            "visibility": null,
            "width": null
          }
        },
        "c632ccbd4e9a4931a8456a2d196fa6dc": {
          "model_module": "@jupyter-widgets/controls",
          "model_name": "DescriptionStyleModel",
          "model_module_version": "1.5.0",
          "state": {
            "_model_module": "@jupyter-widgets/controls",
            "_model_module_version": "1.5.0",
            "_model_name": "DescriptionStyleModel",
            "_view_count": null,
            "_view_module": "@jupyter-widgets/base",
            "_view_module_version": "1.2.0",
            "_view_name": "StyleView",
            "description_width": ""
          }
        },
        "2574d7637a944121b0fe062cf016b40a": {
          "model_module": "@jupyter-widgets/controls",
          "model_name": "HBoxModel",
          "model_module_version": "1.5.0",
          "state": {
            "_dom_classes": [],
            "_model_module": "@jupyter-widgets/controls",
            "_model_module_version": "1.5.0",
            "_model_name": "HBoxModel",
            "_view_count": null,
            "_view_module": "@jupyter-widgets/controls",
            "_view_module_version": "1.5.0",
            "_view_name": "HBoxView",
            "box_style": "",
            "children": [
              "IPY_MODEL_11b549b9cd9045e8b5ad40f1101a0079",
              "IPY_MODEL_7264fa2f6ee3447cb1ae63c227131cdd",
              "IPY_MODEL_ba7b8f98cf0c46878bc6ab992838f05d"
            ],
            "layout": "IPY_MODEL_483d66714d7a487b8ddddcc21842d44a"
          }
        },
        "11b549b9cd9045e8b5ad40f1101a0079": {
          "model_module": "@jupyter-widgets/controls",
          "model_name": "HTMLModel",
          "model_module_version": "1.5.0",
          "state": {
            "_dom_classes": [],
            "_model_module": "@jupyter-widgets/controls",
            "_model_module_version": "1.5.0",
            "_model_name": "HTMLModel",
            "_view_count": null,
            "_view_module": "@jupyter-widgets/controls",
            "_view_module_version": "1.5.0",
            "_view_name": "HTMLView",
            "description": "",
            "description_tooltip": null,
            "layout": "IPY_MODEL_4f117861516944d080ecc0416fb3adce",
            "placeholder": "​",
            "style": "IPY_MODEL_7332700cef53485f8c52fe35c52eb15a",
            "value": "Downloading (…)lve/main/config.json: 100%"
          }
        },
        "7264fa2f6ee3447cb1ae63c227131cdd": {
          "model_module": "@jupyter-widgets/controls",
          "model_name": "FloatProgressModel",
          "model_module_version": "1.5.0",
          "state": {
            "_dom_classes": [],
            "_model_module": "@jupyter-widgets/controls",
            "_model_module_version": "1.5.0",
            "_model_name": "FloatProgressModel",
            "_view_count": null,
            "_view_module": "@jupyter-widgets/controls",
            "_view_module_version": "1.5.0",
            "_view_name": "ProgressView",
            "bar_style": "success",
            "description": "",
            "description_tooltip": null,
            "layout": "IPY_MODEL_75678b4a9f544e49826c00c92e0b458c",
            "max": 914,
            "min": 0,
            "orientation": "horizontal",
            "style": "IPY_MODEL_2b8777fef34341fdb3c1394c81a20534",
            "value": 914
          }
        },
        "ba7b8f98cf0c46878bc6ab992838f05d": {
          "model_module": "@jupyter-widgets/controls",
          "model_name": "HTMLModel",
          "model_module_version": "1.5.0",
          "state": {
            "_dom_classes": [],
            "_model_module": "@jupyter-widgets/controls",
            "_model_module_version": "1.5.0",
            "_model_name": "HTMLModel",
            "_view_count": null,
            "_view_module": "@jupyter-widgets/controls",
            "_view_module_version": "1.5.0",
            "_view_name": "HTMLView",
            "description": "",
            "description_tooltip": null,
            "layout": "IPY_MODEL_9bf04afd194c42438cbb39f4f83ecbd2",
            "placeholder": "​",
            "style": "IPY_MODEL_91e7cd97802b4ff6ac0e02fe5ba52215",
            "value": " 914/914 [00:00&lt;00:00, 22.5kB/s]"
          }
        },
        "483d66714d7a487b8ddddcc21842d44a": {
          "model_module": "@jupyter-widgets/base",
          "model_name": "LayoutModel",
          "model_module_version": "1.2.0",
          "state": {
            "_model_module": "@jupyter-widgets/base",
            "_model_module_version": "1.2.0",
            "_model_name": "LayoutModel",
            "_view_count": null,
            "_view_module": "@jupyter-widgets/base",
            "_view_module_version": "1.2.0",
            "_view_name": "LayoutView",
            "align_content": null,
            "align_items": null,
            "align_self": null,
            "border": null,
            "bottom": null,
            "display": null,
            "flex": null,
            "flex_flow": null,
            "grid_area": null,
            "grid_auto_columns": null,
            "grid_auto_flow": null,
            "grid_auto_rows": null,
            "grid_column": null,
            "grid_gap": null,
            "grid_row": null,
            "grid_template_areas": null,
            "grid_template_columns": null,
            "grid_template_rows": null,
            "height": null,
            "justify_content": null,
            "justify_items": null,
            "left": null,
            "margin": null,
            "max_height": null,
            "max_width": null,
            "min_height": null,
            "min_width": null,
            "object_fit": null,
            "object_position": null,
            "order": null,
            "overflow": null,
            "overflow_x": null,
            "overflow_y": null,
            "padding": null,
            "right": null,
            "top": null,
            "visibility": null,
            "width": null
          }
        },
        "4f117861516944d080ecc0416fb3adce": {
          "model_module": "@jupyter-widgets/base",
          "model_name": "LayoutModel",
          "model_module_version": "1.2.0",
          "state": {
            "_model_module": "@jupyter-widgets/base",
            "_model_module_version": "1.2.0",
            "_model_name": "LayoutModel",
            "_view_count": null,
            "_view_module": "@jupyter-widgets/base",
            "_view_module_version": "1.2.0",
            "_view_name": "LayoutView",
            "align_content": null,
            "align_items": null,
            "align_self": null,
            "border": null,
            "bottom": null,
            "display": null,
            "flex": null,
            "flex_flow": null,
            "grid_area": null,
            "grid_auto_columns": null,
            "grid_auto_flow": null,
            "grid_auto_rows": null,
            "grid_column": null,
            "grid_gap": null,
            "grid_row": null,
            "grid_template_areas": null,
            "grid_template_columns": null,
            "grid_template_rows": null,
            "height": null,
            "justify_content": null,
            "justify_items": null,
            "left": null,
            "margin": null,
            "max_height": null,
            "max_width": null,
            "min_height": null,
            "min_width": null,
            "object_fit": null,
            "object_position": null,
            "order": null,
            "overflow": null,
            "overflow_x": null,
            "overflow_y": null,
            "padding": null,
            "right": null,
            "top": null,
            "visibility": null,
            "width": null
          }
        },
        "7332700cef53485f8c52fe35c52eb15a": {
          "model_module": "@jupyter-widgets/controls",
          "model_name": "DescriptionStyleModel",
          "model_module_version": "1.5.0",
          "state": {
            "_model_module": "@jupyter-widgets/controls",
            "_model_module_version": "1.5.0",
            "_model_name": "DescriptionStyleModel",
            "_view_count": null,
            "_view_module": "@jupyter-widgets/base",
            "_view_module_version": "1.2.0",
            "_view_name": "StyleView",
            "description_width": ""
          }
        },
        "75678b4a9f544e49826c00c92e0b458c": {
          "model_module": "@jupyter-widgets/base",
          "model_name": "LayoutModel",
          "model_module_version": "1.2.0",
          "state": {
            "_model_module": "@jupyter-widgets/base",
            "_model_module_version": "1.2.0",
            "_model_name": "LayoutModel",
            "_view_count": null,
            "_view_module": "@jupyter-widgets/base",
            "_view_module_version": "1.2.0",
            "_view_name": "LayoutView",
            "align_content": null,
            "align_items": null,
            "align_self": null,
            "border": null,
            "bottom": null,
            "display": null,
            "flex": null,
            "flex_flow": null,
            "grid_area": null,
            "grid_auto_columns": null,
            "grid_auto_flow": null,
            "grid_auto_rows": null,
            "grid_column": null,
            "grid_gap": null,
            "grid_row": null,
            "grid_template_areas": null,
            "grid_template_columns": null,
            "grid_template_rows": null,
            "height": null,
            "justify_content": null,
            "justify_items": null,
            "left": null,
            "margin": null,
            "max_height": null,
            "max_width": null,
            "min_height": null,
            "min_width": null,
            "object_fit": null,
            "object_position": null,
            "order": null,
            "overflow": null,
            "overflow_x": null,
            "overflow_y": null,
            "padding": null,
            "right": null,
            "top": null,
            "visibility": null,
            "width": null
          }
        },
        "2b8777fef34341fdb3c1394c81a20534": {
          "model_module": "@jupyter-widgets/controls",
          "model_name": "ProgressStyleModel",
          "model_module_version": "1.5.0",
          "state": {
            "_model_module": "@jupyter-widgets/controls",
            "_model_module_version": "1.5.0",
            "_model_name": "ProgressStyleModel",
            "_view_count": null,
            "_view_module": "@jupyter-widgets/base",
            "_view_module_version": "1.2.0",
            "_view_name": "StyleView",
            "bar_color": null,
            "description_width": ""
          }
        },
        "9bf04afd194c42438cbb39f4f83ecbd2": {
          "model_module": "@jupyter-widgets/base",
          "model_name": "LayoutModel",
          "model_module_version": "1.2.0",
          "state": {
            "_model_module": "@jupyter-widgets/base",
            "_model_module_version": "1.2.0",
            "_model_name": "LayoutModel",
            "_view_count": null,
            "_view_module": "@jupyter-widgets/base",
            "_view_module_version": "1.2.0",
            "_view_name": "LayoutView",
            "align_content": null,
            "align_items": null,
            "align_self": null,
            "border": null,
            "bottom": null,
            "display": null,
            "flex": null,
            "flex_flow": null,
            "grid_area": null,
            "grid_auto_columns": null,
            "grid_auto_flow": null,
            "grid_auto_rows": null,
            "grid_column": null,
            "grid_gap": null,
            "grid_row": null,
            "grid_template_areas": null,
            "grid_template_columns": null,
            "grid_template_rows": null,
            "height": null,
            "justify_content": null,
            "justify_items": null,
            "left": null,
            "margin": null,
            "max_height": null,
            "max_width": null,
            "min_height": null,
            "min_width": null,
            "object_fit": null,
            "object_position": null,
            "order": null,
            "overflow": null,
            "overflow_x": null,
            "overflow_y": null,
            "padding": null,
            "right": null,
            "top": null,
            "visibility": null,
            "width": null
          }
        },
        "91e7cd97802b4ff6ac0e02fe5ba52215": {
          "model_module": "@jupyter-widgets/controls",
          "model_name": "DescriptionStyleModel",
          "model_module_version": "1.5.0",
          "state": {
            "_model_module": "@jupyter-widgets/controls",
            "_model_module_version": "1.5.0",
            "_model_name": "DescriptionStyleModel",
            "_view_count": null,
            "_view_module": "@jupyter-widgets/base",
            "_view_module_version": "1.2.0",
            "_view_name": "StyleView",
            "description_width": ""
          }
        },
        "060e8db906f74953bd3f1888807980f0": {
          "model_module": "@jupyter-widgets/controls",
          "model_name": "HBoxModel",
          "model_module_version": "1.5.0",
          "state": {
            "_dom_classes": [],
            "_model_module": "@jupyter-widgets/controls",
            "_model_module_version": "1.5.0",
            "_model_name": "HBoxModel",
            "_view_count": null,
            "_view_module": "@jupyter-widgets/controls",
            "_view_module_version": "1.5.0",
            "_view_name": "HBoxView",
            "box_style": "",
            "children": [
              "IPY_MODEL_590b6fe741dc42c4be35f4692f03de2f",
              "IPY_MODEL_637829570bfa443b901f5c46505f4c57",
              "IPY_MODEL_a408d9d4b65f41ac892d33be614c05d9"
            ],
            "layout": "IPY_MODEL_511259517152433588389c2aaf802bda"
          }
        },
        "590b6fe741dc42c4be35f4692f03de2f": {
          "model_module": "@jupyter-widgets/controls",
          "model_name": "HTMLModel",
          "model_module_version": "1.5.0",
          "state": {
            "_dom_classes": [],
            "_model_module": "@jupyter-widgets/controls",
            "_model_module_version": "1.5.0",
            "_model_name": "HTMLModel",
            "_view_count": null,
            "_view_module": "@jupyter-widgets/controls",
            "_view_module_version": "1.5.0",
            "_view_name": "HTMLView",
            "description": "",
            "description_tooltip": null,
            "layout": "IPY_MODEL_749a32aa1c044b8db416b1945309a2cf",
            "placeholder": "​",
            "style": "IPY_MODEL_fdc0ffc9e0fd46609477141910bb71cb",
            "value": "Downloading (…)olve/main/vocab.json: 100%"
          }
        },
        "637829570bfa443b901f5c46505f4c57": {
          "model_module": "@jupyter-widgets/controls",
          "model_name": "FloatProgressModel",
          "model_module_version": "1.5.0",
          "state": {
            "_dom_classes": [],
            "_model_module": "@jupyter-widgets/controls",
            "_model_module_version": "1.5.0",
            "_model_name": "FloatProgressModel",
            "_view_count": null,
            "_view_module": "@jupyter-widgets/controls",
            "_view_module_version": "1.5.0",
            "_view_name": "ProgressView",
            "bar_style": "success",
            "description": "",
            "description_tooltip": null,
            "layout": "IPY_MODEL_8ee0aafc7b064f91b2aaad0b1afbce26",
            "max": 840253,
            "min": 0,
            "orientation": "horizontal",
            "style": "IPY_MODEL_1bd69b1ddf7c49768b577594c53187c5",
            "value": 840253
          }
        },
        "a408d9d4b65f41ac892d33be614c05d9": {
          "model_module": "@jupyter-widgets/controls",
          "model_name": "HTMLModel",
          "model_module_version": "1.5.0",
          "state": {
            "_dom_classes": [],
            "_model_module": "@jupyter-widgets/controls",
            "_model_module_version": "1.5.0",
            "_model_name": "HTMLModel",
            "_view_count": null,
            "_view_module": "@jupyter-widgets/controls",
            "_view_module_version": "1.5.0",
            "_view_name": "HTMLView",
            "description": "",
            "description_tooltip": null,
            "layout": "IPY_MODEL_7ad1574a36044317a1c99d675f5960c0",
            "placeholder": "​",
            "style": "IPY_MODEL_9005d0465b694ee09a28748676a49a5c",
            "value": " 840k/840k [00:00&lt;00:00, 6.15MB/s]"
          }
        },
        "511259517152433588389c2aaf802bda": {
          "model_module": "@jupyter-widgets/base",
          "model_name": "LayoutModel",
          "model_module_version": "1.2.0",
          "state": {
            "_model_module": "@jupyter-widgets/base",
            "_model_module_version": "1.2.0",
            "_model_name": "LayoutModel",
            "_view_count": null,
            "_view_module": "@jupyter-widgets/base",
            "_view_module_version": "1.2.0",
            "_view_name": "LayoutView",
            "align_content": null,
            "align_items": null,
            "align_self": null,
            "border": null,
            "bottom": null,
            "display": null,
            "flex": null,
            "flex_flow": null,
            "grid_area": null,
            "grid_auto_columns": null,
            "grid_auto_flow": null,
            "grid_auto_rows": null,
            "grid_column": null,
            "grid_gap": null,
            "grid_row": null,
            "grid_template_areas": null,
            "grid_template_columns": null,
            "grid_template_rows": null,
            "height": null,
            "justify_content": null,
            "justify_items": null,
            "left": null,
            "margin": null,
            "max_height": null,
            "max_width": null,
            "min_height": null,
            "min_width": null,
            "object_fit": null,
            "object_position": null,
            "order": null,
            "overflow": null,
            "overflow_x": null,
            "overflow_y": null,
            "padding": null,
            "right": null,
            "top": null,
            "visibility": null,
            "width": null
          }
        },
        "749a32aa1c044b8db416b1945309a2cf": {
          "model_module": "@jupyter-widgets/base",
          "model_name": "LayoutModel",
          "model_module_version": "1.2.0",
          "state": {
            "_model_module": "@jupyter-widgets/base",
            "_model_module_version": "1.2.0",
            "_model_name": "LayoutModel",
            "_view_count": null,
            "_view_module": "@jupyter-widgets/base",
            "_view_module_version": "1.2.0",
            "_view_name": "LayoutView",
            "align_content": null,
            "align_items": null,
            "align_self": null,
            "border": null,
            "bottom": null,
            "display": null,
            "flex": null,
            "flex_flow": null,
            "grid_area": null,
            "grid_auto_columns": null,
            "grid_auto_flow": null,
            "grid_auto_rows": null,
            "grid_column": null,
            "grid_gap": null,
            "grid_row": null,
            "grid_template_areas": null,
            "grid_template_columns": null,
            "grid_template_rows": null,
            "height": null,
            "justify_content": null,
            "justify_items": null,
            "left": null,
            "margin": null,
            "max_height": null,
            "max_width": null,
            "min_height": null,
            "min_width": null,
            "object_fit": null,
            "object_position": null,
            "order": null,
            "overflow": null,
            "overflow_x": null,
            "overflow_y": null,
            "padding": null,
            "right": null,
            "top": null,
            "visibility": null,
            "width": null
          }
        },
        "fdc0ffc9e0fd46609477141910bb71cb": {
          "model_module": "@jupyter-widgets/controls",
          "model_name": "DescriptionStyleModel",
          "model_module_version": "1.5.0",
          "state": {
            "_model_module": "@jupyter-widgets/controls",
            "_model_module_version": "1.5.0",
            "_model_name": "DescriptionStyleModel",
            "_view_count": null,
            "_view_module": "@jupyter-widgets/base",
            "_view_module_version": "1.2.0",
            "_view_name": "StyleView",
            "description_width": ""
          }
        },
        "8ee0aafc7b064f91b2aaad0b1afbce26": {
          "model_module": "@jupyter-widgets/base",
          "model_name": "LayoutModel",
          "model_module_version": "1.2.0",
          "state": {
            "_model_module": "@jupyter-widgets/base",
            "_model_module_version": "1.2.0",
            "_model_name": "LayoutModel",
            "_view_count": null,
            "_view_module": "@jupyter-widgets/base",
            "_view_module_version": "1.2.0",
            "_view_name": "LayoutView",
            "align_content": null,
            "align_items": null,
            "align_self": null,
            "border": null,
            "bottom": null,
            "display": null,
            "flex": null,
            "flex_flow": null,
            "grid_area": null,
            "grid_auto_columns": null,
            "grid_auto_flow": null,
            "grid_auto_rows": null,
            "grid_column": null,
            "grid_gap": null,
            "grid_row": null,
            "grid_template_areas": null,
            "grid_template_columns": null,
            "grid_template_rows": null,
            "height": null,
            "justify_content": null,
            "justify_items": null,
            "left": null,
            "margin": null,
            "max_height": null,
            "max_width": null,
            "min_height": null,
            "min_width": null,
            "object_fit": null,
            "object_position": null,
            "order": null,
            "overflow": null,
            "overflow_x": null,
            "overflow_y": null,
            "padding": null,
            "right": null,
            "top": null,
            "visibility": null,
            "width": null
          }
        },
        "1bd69b1ddf7c49768b577594c53187c5": {
          "model_module": "@jupyter-widgets/controls",
          "model_name": "ProgressStyleModel",
          "model_module_version": "1.5.0",
          "state": {
            "_model_module": "@jupyter-widgets/controls",
            "_model_module_version": "1.5.0",
            "_model_name": "ProgressStyleModel",
            "_view_count": null,
            "_view_module": "@jupyter-widgets/base",
            "_view_module_version": "1.2.0",
            "_view_name": "StyleView",
            "bar_color": null,
            "description_width": ""
          }
        },
        "7ad1574a36044317a1c99d675f5960c0": {
          "model_module": "@jupyter-widgets/base",
          "model_name": "LayoutModel",
          "model_module_version": "1.2.0",
          "state": {
            "_model_module": "@jupyter-widgets/base",
            "_model_module_version": "1.2.0",
            "_model_name": "LayoutModel",
            "_view_count": null,
            "_view_module": "@jupyter-widgets/base",
            "_view_module_version": "1.2.0",
            "_view_name": "LayoutView",
            "align_content": null,
            "align_items": null,
            "align_self": null,
            "border": null,
            "bottom": null,
            "display": null,
            "flex": null,
            "flex_flow": null,
            "grid_area": null,
            "grid_auto_columns": null,
            "grid_auto_flow": null,
            "grid_auto_rows": null,
            "grid_column": null,
            "grid_gap": null,
            "grid_row": null,
            "grid_template_areas": null,
            "grid_template_columns": null,
            "grid_template_rows": null,
            "height": null,
            "justify_content": null,
            "justify_items": null,
            "left": null,
            "margin": null,
            "max_height": null,
            "max_width": null,
            "min_height": null,
            "min_width": null,
            "object_fit": null,
            "object_position": null,
            "order": null,
            "overflow": null,
            "overflow_x": null,
            "overflow_y": null,
            "padding": null,
            "right": null,
            "top": null,
            "visibility": null,
            "width": null
          }
        },
        "9005d0465b694ee09a28748676a49a5c": {
          "model_module": "@jupyter-widgets/controls",
          "model_name": "DescriptionStyleModel",
          "model_module_version": "1.5.0",
          "state": {
            "_model_module": "@jupyter-widgets/controls",
            "_model_module_version": "1.5.0",
            "_model_name": "DescriptionStyleModel",
            "_view_count": null,
            "_view_module": "@jupyter-widgets/base",
            "_view_module_version": "1.2.0",
            "_view_name": "StyleView",
            "description_width": ""
          }
        },
        "9dc0c924780e46f2bdcd7075891b7acf": {
          "model_module": "@jupyter-widgets/controls",
          "model_name": "HBoxModel",
          "model_module_version": "1.5.0",
          "state": {
            "_dom_classes": [],
            "_model_module": "@jupyter-widgets/controls",
            "_model_module_version": "1.5.0",
            "_model_name": "HBoxModel",
            "_view_count": null,
            "_view_module": "@jupyter-widgets/controls",
            "_view_module_version": "1.5.0",
            "_view_name": "HBoxView",
            "box_style": "",
            "children": [
              "IPY_MODEL_d2ee84ee0a9b4866a1442fa9a75b92b5",
              "IPY_MODEL_50e090bed903431fa9f6178a17b6412b",
              "IPY_MODEL_6e7769be7198413c8d650f75c3af0ce8"
            ],
            "layout": "IPY_MODEL_1a0f7e3788684ad2ada5c9db4e46d179"
          }
        },
        "d2ee84ee0a9b4866a1442fa9a75b92b5": {
          "model_module": "@jupyter-widgets/controls",
          "model_name": "HTMLModel",
          "model_module_version": "1.5.0",
          "state": {
            "_dom_classes": [],
            "_model_module": "@jupyter-widgets/controls",
            "_model_module_version": "1.5.0",
            "_model_name": "HTMLModel",
            "_view_count": null,
            "_view_module": "@jupyter-widgets/controls",
            "_view_module_version": "1.5.0",
            "_view_name": "HTMLView",
            "description": "",
            "description_tooltip": null,
            "layout": "IPY_MODEL_b74eaca572b94a12aad03fd4dd742235",
            "placeholder": "​",
            "style": "IPY_MODEL_ef89cacadfed42a0825bcfb6ddf030e5",
            "value": "Downloading (…)olve/main/merges.txt: 100%"
          }
        },
        "50e090bed903431fa9f6178a17b6412b": {
          "model_module": "@jupyter-widgets/controls",
          "model_name": "FloatProgressModel",
          "model_module_version": "1.5.0",
          "state": {
            "_dom_classes": [],
            "_model_module": "@jupyter-widgets/controls",
            "_model_module_version": "1.5.0",
            "_model_name": "FloatProgressModel",
            "_view_count": null,
            "_view_module": "@jupyter-widgets/controls",
            "_view_module_version": "1.5.0",
            "_view_name": "ProgressView",
            "bar_style": "success",
            "description": "",
            "description_tooltip": null,
            "layout": "IPY_MODEL_da40de8f21204e6499af82a87e90f6a7",
            "max": 498530,
            "min": 0,
            "orientation": "horizontal",
            "style": "IPY_MODEL_1f82e024bd9d4652ad4ddf378d6f0310",
            "value": 498530
          }
        },
        "6e7769be7198413c8d650f75c3af0ce8": {
          "model_module": "@jupyter-widgets/controls",
          "model_name": "HTMLModel",
          "model_module_version": "1.5.0",
          "state": {
            "_dom_classes": [],
            "_model_module": "@jupyter-widgets/controls",
            "_model_module_version": "1.5.0",
            "_model_name": "HTMLModel",
            "_view_count": null,
            "_view_module": "@jupyter-widgets/controls",
            "_view_module_version": "1.5.0",
            "_view_name": "HTMLView",
            "description": "",
            "description_tooltip": null,
            "layout": "IPY_MODEL_eab8f78201074bb6a8b696c990efb2c3",
            "placeholder": "​",
            "style": "IPY_MODEL_07312fc914234462bdee556f4910d541",
            "value": " 499k/499k [00:00&lt;00:00, 2.92MB/s]"
          }
        },
        "1a0f7e3788684ad2ada5c9db4e46d179": {
          "model_module": "@jupyter-widgets/base",
          "model_name": "LayoutModel",
          "model_module_version": "1.2.0",
          "state": {
            "_model_module": "@jupyter-widgets/base",
            "_model_module_version": "1.2.0",
            "_model_name": "LayoutModel",
            "_view_count": null,
            "_view_module": "@jupyter-widgets/base",
            "_view_module_version": "1.2.0",
            "_view_name": "LayoutView",
            "align_content": null,
            "align_items": null,
            "align_self": null,
            "border": null,
            "bottom": null,
            "display": null,
            "flex": null,
            "flex_flow": null,
            "grid_area": null,
            "grid_auto_columns": null,
            "grid_auto_flow": null,
            "grid_auto_rows": null,
            "grid_column": null,
            "grid_gap": null,
            "grid_row": null,
            "grid_template_areas": null,
            "grid_template_columns": null,
            "grid_template_rows": null,
            "height": null,
            "justify_content": null,
            "justify_items": null,
            "left": null,
            "margin": null,
            "max_height": null,
            "max_width": null,
            "min_height": null,
            "min_width": null,
            "object_fit": null,
            "object_position": null,
            "order": null,
            "overflow": null,
            "overflow_x": null,
            "overflow_y": null,
            "padding": null,
            "right": null,
            "top": null,
            "visibility": null,
            "width": null
          }
        },
        "b74eaca572b94a12aad03fd4dd742235": {
          "model_module": "@jupyter-widgets/base",
          "model_name": "LayoutModel",
          "model_module_version": "1.2.0",
          "state": {
            "_model_module": "@jupyter-widgets/base",
            "_model_module_version": "1.2.0",
            "_model_name": "LayoutModel",
            "_view_count": null,
            "_view_module": "@jupyter-widgets/base",
            "_view_module_version": "1.2.0",
            "_view_name": "LayoutView",
            "align_content": null,
            "align_items": null,
            "align_self": null,
            "border": null,
            "bottom": null,
            "display": null,
            "flex": null,
            "flex_flow": null,
            "grid_area": null,
            "grid_auto_columns": null,
            "grid_auto_flow": null,
            "grid_auto_rows": null,
            "grid_column": null,
            "grid_gap": null,
            "grid_row": null,
            "grid_template_areas": null,
            "grid_template_columns": null,
            "grid_template_rows": null,
            "height": null,
            "justify_content": null,
            "justify_items": null,
            "left": null,
            "margin": null,
            "max_height": null,
            "max_width": null,
            "min_height": null,
            "min_width": null,
            "object_fit": null,
            "object_position": null,
            "order": null,
            "overflow": null,
            "overflow_x": null,
            "overflow_y": null,
            "padding": null,
            "right": null,
            "top": null,
            "visibility": null,
            "width": null
          }
        },
        "ef89cacadfed42a0825bcfb6ddf030e5": {
          "model_module": "@jupyter-widgets/controls",
          "model_name": "DescriptionStyleModel",
          "model_module_version": "1.5.0",
          "state": {
            "_model_module": "@jupyter-widgets/controls",
            "_model_module_version": "1.5.0",
            "_model_name": "DescriptionStyleModel",
            "_view_count": null,
            "_view_module": "@jupyter-widgets/base",
            "_view_module_version": "1.2.0",
            "_view_name": "StyleView",
            "description_width": ""
          }
        },
        "da40de8f21204e6499af82a87e90f6a7": {
          "model_module": "@jupyter-widgets/base",
          "model_name": "LayoutModel",
          "model_module_version": "1.2.0",
          "state": {
            "_model_module": "@jupyter-widgets/base",
            "_model_module_version": "1.2.0",
            "_model_name": "LayoutModel",
            "_view_count": null,
            "_view_module": "@jupyter-widgets/base",
            "_view_module_version": "1.2.0",
            "_view_name": "LayoutView",
            "align_content": null,
            "align_items": null,
            "align_self": null,
            "border": null,
            "bottom": null,
            "display": null,
            "flex": null,
            "flex_flow": null,
            "grid_area": null,
            "grid_auto_columns": null,
            "grid_auto_flow": null,
            "grid_auto_rows": null,
            "grid_column": null,
            "grid_gap": null,
            "grid_row": null,
            "grid_template_areas": null,
            "grid_template_columns": null,
            "grid_template_rows": null,
            "height": null,
            "justify_content": null,
            "justify_items": null,
            "left": null,
            "margin": null,
            "max_height": null,
            "max_width": null,
            "min_height": null,
            "min_width": null,
            "object_fit": null,
            "object_position": null,
            "order": null,
            "overflow": null,
            "overflow_x": null,
            "overflow_y": null,
            "padding": null,
            "right": null,
            "top": null,
            "visibility": null,
            "width": null
          }
        },
        "1f82e024bd9d4652ad4ddf378d6f0310": {
          "model_module": "@jupyter-widgets/controls",
          "model_name": "ProgressStyleModel",
          "model_module_version": "1.5.0",
          "state": {
            "_model_module": "@jupyter-widgets/controls",
            "_model_module_version": "1.5.0",
            "_model_name": "ProgressStyleModel",
            "_view_count": null,
            "_view_module": "@jupyter-widgets/base",
            "_view_module_version": "1.2.0",
            "_view_name": "StyleView",
            "bar_color": null,
            "description_width": ""
          }
        },
        "eab8f78201074bb6a8b696c990efb2c3": {
          "model_module": "@jupyter-widgets/base",
          "model_name": "LayoutModel",
          "model_module_version": "1.2.0",
          "state": {
            "_model_module": "@jupyter-widgets/base",
            "_model_module_version": "1.2.0",
            "_model_name": "LayoutModel",
            "_view_count": null,
            "_view_module": "@jupyter-widgets/base",
            "_view_module_version": "1.2.0",
            "_view_name": "LayoutView",
            "align_content": null,
            "align_items": null,
            "align_self": null,
            "border": null,
            "bottom": null,
            "display": null,
            "flex": null,
            "flex_flow": null,
            "grid_area": null,
            "grid_auto_columns": null,
            "grid_auto_flow": null,
            "grid_auto_rows": null,
            "grid_column": null,
            "grid_gap": null,
            "grid_row": null,
            "grid_template_areas": null,
            "grid_template_columns": null,
            "grid_template_rows": null,
            "height": null,
            "justify_content": null,
            "justify_items": null,
            "left": null,
            "margin": null,
            "max_height": null,
            "max_width": null,
            "min_height": null,
            "min_width": null,
            "object_fit": null,
            "object_position": null,
            "order": null,
            "overflow": null,
            "overflow_x": null,
            "overflow_y": null,
            "padding": null,
            "right": null,
            "top": null,
            "visibility": null,
            "width": null
          }
        },
        "07312fc914234462bdee556f4910d541": {
          "model_module": "@jupyter-widgets/controls",
          "model_name": "DescriptionStyleModel",
          "model_module_version": "1.5.0",
          "state": {
            "_model_module": "@jupyter-widgets/controls",
            "_model_module_version": "1.5.0",
            "_model_name": "DescriptionStyleModel",
            "_view_count": null,
            "_view_module": "@jupyter-widgets/base",
            "_view_module_version": "1.2.0",
            "_view_name": "StyleView",
            "description_width": ""
          }
        },
        "34978713ba2549a3966ae732c3a66c20": {
          "model_module": "@jupyter-widgets/controls",
          "model_name": "HBoxModel",
          "model_module_version": "1.5.0",
          "state": {
            "_dom_classes": [],
            "_model_module": "@jupyter-widgets/controls",
            "_model_module_version": "1.5.0",
            "_model_name": "HBoxModel",
            "_view_count": null,
            "_view_module": "@jupyter-widgets/controls",
            "_view_module_version": "1.5.0",
            "_view_name": "HBoxView",
            "box_style": "",
            "children": [
              "IPY_MODEL_7858c7c48be24f24833c394bb57ef0be",
              "IPY_MODEL_3fe4173bb5af46588f3dd0a7deab5c9e",
              "IPY_MODEL_09edecf37f6b4b6b8ed894d170bea3ac"
            ],
            "layout": "IPY_MODEL_f220d21c6f4a4eb796e11cdc298050f8"
          }
        },
        "7858c7c48be24f24833c394bb57ef0be": {
          "model_module": "@jupyter-widgets/controls",
          "model_name": "HTMLModel",
          "model_module_version": "1.5.0",
          "state": {
            "_dom_classes": [],
            "_model_module": "@jupyter-widgets/controls",
            "_model_module_version": "1.5.0",
            "_model_name": "HTMLModel",
            "_view_count": null,
            "_view_module": "@jupyter-widgets/controls",
            "_view_module_version": "1.5.0",
            "_view_name": "HTMLView",
            "description": "",
            "description_tooltip": null,
            "layout": "IPY_MODEL_4e9a112c82c9499fa660c5ec06c64882",
            "placeholder": "​",
            "style": "IPY_MODEL_9d75abd61c4345d283904578ce3253f0",
            "value": "Downloading (…)cial_tokens_map.json: 100%"
          }
        },
        "3fe4173bb5af46588f3dd0a7deab5c9e": {
          "model_module": "@jupyter-widgets/controls",
          "model_name": "FloatProgressModel",
          "model_module_version": "1.5.0",
          "state": {
            "_dom_classes": [],
            "_model_module": "@jupyter-widgets/controls",
            "_model_module_version": "1.5.0",
            "_model_name": "FloatProgressModel",
            "_view_count": null,
            "_view_module": "@jupyter-widgets/controls",
            "_view_module_version": "1.5.0",
            "_view_name": "ProgressView",
            "bar_style": "success",
            "description": "",
            "description_tooltip": null,
            "layout": "IPY_MODEL_993cc28ba11b4f29a42a936333f823b4",
            "max": 262,
            "min": 0,
            "orientation": "horizontal",
            "style": "IPY_MODEL_4ad4b92bc1ce42efa596db73f43c2985",
            "value": 262
          }
        },
        "09edecf37f6b4b6b8ed894d170bea3ac": {
          "model_module": "@jupyter-widgets/controls",
          "model_name": "HTMLModel",
          "model_module_version": "1.5.0",
          "state": {
            "_dom_classes": [],
            "_model_module": "@jupyter-widgets/controls",
            "_model_module_version": "1.5.0",
            "_model_name": "HTMLModel",
            "_view_count": null,
            "_view_module": "@jupyter-widgets/controls",
            "_view_module_version": "1.5.0",
            "_view_name": "HTMLView",
            "description": "",
            "description_tooltip": null,
            "layout": "IPY_MODEL_0f5fcd88ae0e450faaf8fae382683b5f",
            "placeholder": "​",
            "style": "IPY_MODEL_a0679373db2f4dae95ef5ac55d94126b",
            "value": " 262/262 [00:00&lt;00:00, 4.23kB/s]"
          }
        },
        "f220d21c6f4a4eb796e11cdc298050f8": {
          "model_module": "@jupyter-widgets/base",
          "model_name": "LayoutModel",
          "model_module_version": "1.2.0",
          "state": {
            "_model_module": "@jupyter-widgets/base",
            "_model_module_version": "1.2.0",
            "_model_name": "LayoutModel",
            "_view_count": null,
            "_view_module": "@jupyter-widgets/base",
            "_view_module_version": "1.2.0",
            "_view_name": "LayoutView",
            "align_content": null,
            "align_items": null,
            "align_self": null,
            "border": null,
            "bottom": null,
            "display": null,
            "flex": null,
            "flex_flow": null,
            "grid_area": null,
            "grid_auto_columns": null,
            "grid_auto_flow": null,
            "grid_auto_rows": null,
            "grid_column": null,
            "grid_gap": null,
            "grid_row": null,
            "grid_template_areas": null,
            "grid_template_columns": null,
            "grid_template_rows": null,
            "height": null,
            "justify_content": null,
            "justify_items": null,
            "left": null,
            "margin": null,
            "max_height": null,
            "max_width": null,
            "min_height": null,
            "min_width": null,
            "object_fit": null,
            "object_position": null,
            "order": null,
            "overflow": null,
            "overflow_x": null,
            "overflow_y": null,
            "padding": null,
            "right": null,
            "top": null,
            "visibility": null,
            "width": null
          }
        },
        "4e9a112c82c9499fa660c5ec06c64882": {
          "model_module": "@jupyter-widgets/base",
          "model_name": "LayoutModel",
          "model_module_version": "1.2.0",
          "state": {
            "_model_module": "@jupyter-widgets/base",
            "_model_module_version": "1.2.0",
            "_model_name": "LayoutModel",
            "_view_count": null,
            "_view_module": "@jupyter-widgets/base",
            "_view_module_version": "1.2.0",
            "_view_name": "LayoutView",
            "align_content": null,
            "align_items": null,
            "align_self": null,
            "border": null,
            "bottom": null,
            "display": null,
            "flex": null,
            "flex_flow": null,
            "grid_area": null,
            "grid_auto_columns": null,
            "grid_auto_flow": null,
            "grid_auto_rows": null,
            "grid_column": null,
            "grid_gap": null,
            "grid_row": null,
            "grid_template_areas": null,
            "grid_template_columns": null,
            "grid_template_rows": null,
            "height": null,
            "justify_content": null,
            "justify_items": null,
            "left": null,
            "margin": null,
            "max_height": null,
            "max_width": null,
            "min_height": null,
            "min_width": null,
            "object_fit": null,
            "object_position": null,
            "order": null,
            "overflow": null,
            "overflow_x": null,
            "overflow_y": null,
            "padding": null,
            "right": null,
            "top": null,
            "visibility": null,
            "width": null
          }
        },
        "9d75abd61c4345d283904578ce3253f0": {
          "model_module": "@jupyter-widgets/controls",
          "model_name": "DescriptionStyleModel",
          "model_module_version": "1.5.0",
          "state": {
            "_model_module": "@jupyter-widgets/controls",
            "_model_module_version": "1.5.0",
            "_model_name": "DescriptionStyleModel",
            "_view_count": null,
            "_view_module": "@jupyter-widgets/base",
            "_view_module_version": "1.2.0",
            "_view_name": "StyleView",
            "description_width": ""
          }
        },
        "993cc28ba11b4f29a42a936333f823b4": {
          "model_module": "@jupyter-widgets/base",
          "model_name": "LayoutModel",
          "model_module_version": "1.2.0",
          "state": {
            "_model_module": "@jupyter-widgets/base",
            "_model_module_version": "1.2.0",
            "_model_name": "LayoutModel",
            "_view_count": null,
            "_view_module": "@jupyter-widgets/base",
            "_view_module_version": "1.2.0",
            "_view_name": "LayoutView",
            "align_content": null,
            "align_items": null,
            "align_self": null,
            "border": null,
            "bottom": null,
            "display": null,
            "flex": null,
            "flex_flow": null,
            "grid_area": null,
            "grid_auto_columns": null,
            "grid_auto_flow": null,
            "grid_auto_rows": null,
            "grid_column": null,
            "grid_gap": null,
            "grid_row": null,
            "grid_template_areas": null,
            "grid_template_columns": null,
            "grid_template_rows": null,
            "height": null,
            "justify_content": null,
            "justify_items": null,
            "left": null,
            "margin": null,
            "max_height": null,
            "max_width": null,
            "min_height": null,
            "min_width": null,
            "object_fit": null,
            "object_position": null,
            "order": null,
            "overflow": null,
            "overflow_x": null,
            "overflow_y": null,
            "padding": null,
            "right": null,
            "top": null,
            "visibility": null,
            "width": null
          }
        },
        "4ad4b92bc1ce42efa596db73f43c2985": {
          "model_module": "@jupyter-widgets/controls",
          "model_name": "ProgressStyleModel",
          "model_module_version": "1.5.0",
          "state": {
            "_model_module": "@jupyter-widgets/controls",
            "_model_module_version": "1.5.0",
            "_model_name": "ProgressStyleModel",
            "_view_count": null,
            "_view_module": "@jupyter-widgets/base",
            "_view_module_version": "1.2.0",
            "_view_name": "StyleView",
            "bar_color": null,
            "description_width": ""
          }
        },
        "0f5fcd88ae0e450faaf8fae382683b5f": {
          "model_module": "@jupyter-widgets/base",
          "model_name": "LayoutModel",
          "model_module_version": "1.2.0",
          "state": {
            "_model_module": "@jupyter-widgets/base",
            "_model_module_version": "1.2.0",
            "_model_name": "LayoutModel",
            "_view_count": null,
            "_view_module": "@jupyter-widgets/base",
            "_view_module_version": "1.2.0",
            "_view_name": "LayoutView",
            "align_content": null,
            "align_items": null,
            "align_self": null,
            "border": null,
            "bottom": null,
            "display": null,
            "flex": null,
            "flex_flow": null,
            "grid_area": null,
            "grid_auto_columns": null,
            "grid_auto_flow": null,
            "grid_auto_rows": null,
            "grid_column": null,
            "grid_gap": null,
            "grid_row": null,
            "grid_template_areas": null,
            "grid_template_columns": null,
            "grid_template_rows": null,
            "height": null,
            "justify_content": null,
            "justify_items": null,
            "left": null,
            "margin": null,
            "max_height": null,
            "max_width": null,
            "min_height": null,
            "min_width": null,
            "object_fit": null,
            "object_position": null,
            "order": null,
            "overflow": null,
            "overflow_x": null,
            "overflow_y": null,
            "padding": null,
            "right": null,
            "top": null,
            "visibility": null,
            "width": null
          }
        },
        "a0679373db2f4dae95ef5ac55d94126b": {
          "model_module": "@jupyter-widgets/controls",
          "model_name": "DescriptionStyleModel",
          "model_module_version": "1.5.0",
          "state": {
            "_model_module": "@jupyter-widgets/controls",
            "_model_module_version": "1.5.0",
            "_model_name": "DescriptionStyleModel",
            "_view_count": null,
            "_view_module": "@jupyter-widgets/base",
            "_view_module_version": "1.2.0",
            "_view_name": "StyleView",
            "description_width": ""
          }
        }
      }
    }
  },
  "cells": [
    {
      "cell_type": "code",
      "execution_count": 1,
      "metadata": {
        "colab": {
          "base_uri": "https://localhost:8080/",
          "height": 75
        },
        "id": "4y5G-tV4SVih",
        "outputId": "88e701c1-fd9c-4d07-e654-b6b8a6c0d4d4"
      },
      "outputs": [
        {
          "output_type": "display_data",
          "data": {
            "text/plain": [
              "<IPython.core.display.HTML object>"
            ],
            "text/html": [
              "\n",
              "     <input type=\"file\" id=\"files-6ea9065e-6a8e-43c8-b5cf-35c6256a2fd0\" name=\"files[]\"  disabled\n",
              "        style=\"border:none\" />\n",
              "     <output id=\"result-6ea9065e-6a8e-43c8-b5cf-35c6256a2fd0\">\n",
              "      Upload widget is only available when the cell has been executed in the\n",
              "      current browser session. Please rerun this cell to enable.\n",
              "      </output>\n",
              "      <script>// Copyright 2017 Google LLC\n",
              "//\n",
              "// Licensed under the Apache License, Version 2.0 (the \"License\");\n",
              "// you may not use this file except in compliance with the License.\n",
              "// You may obtain a copy of the License at\n",
              "//\n",
              "//      http://www.apache.org/licenses/LICENSE-2.0\n",
              "//\n",
              "// Unless required by applicable law or agreed to in writing, software\n",
              "// distributed under the License is distributed on an \"AS IS\" BASIS,\n",
              "// WITHOUT WARRANTIES OR CONDITIONS OF ANY KIND, either express or implied.\n",
              "// See the License for the specific language governing permissions and\n",
              "// limitations under the License.\n",
              "\n",
              "/**\n",
              " * @fileoverview Helpers for google.colab Python module.\n",
              " */\n",
              "(function(scope) {\n",
              "function span(text, styleAttributes = {}) {\n",
              "  const element = document.createElement('span');\n",
              "  element.textContent = text;\n",
              "  for (const key of Object.keys(styleAttributes)) {\n",
              "    element.style[key] = styleAttributes[key];\n",
              "  }\n",
              "  return element;\n",
              "}\n",
              "\n",
              "// Max number of bytes which will be uploaded at a time.\n",
              "const MAX_PAYLOAD_SIZE = 100 * 1024;\n",
              "\n",
              "function _uploadFiles(inputId, outputId) {\n",
              "  const steps = uploadFilesStep(inputId, outputId);\n",
              "  const outputElement = document.getElementById(outputId);\n",
              "  // Cache steps on the outputElement to make it available for the next call\n",
              "  // to uploadFilesContinue from Python.\n",
              "  outputElement.steps = steps;\n",
              "\n",
              "  return _uploadFilesContinue(outputId);\n",
              "}\n",
              "\n",
              "// This is roughly an async generator (not supported in the browser yet),\n",
              "// where there are multiple asynchronous steps and the Python side is going\n",
              "// to poll for completion of each step.\n",
              "// This uses a Promise to block the python side on completion of each step,\n",
              "// then passes the result of the previous step as the input to the next step.\n",
              "function _uploadFilesContinue(outputId) {\n",
              "  const outputElement = document.getElementById(outputId);\n",
              "  const steps = outputElement.steps;\n",
              "\n",
              "  const next = steps.next(outputElement.lastPromiseValue);\n",
              "  return Promise.resolve(next.value.promise).then((value) => {\n",
              "    // Cache the last promise value to make it available to the next\n",
              "    // step of the generator.\n",
              "    outputElement.lastPromiseValue = value;\n",
              "    return next.value.response;\n",
              "  });\n",
              "}\n",
              "\n",
              "/**\n",
              " * Generator function which is called between each async step of the upload\n",
              " * process.\n",
              " * @param {string} inputId Element ID of the input file picker element.\n",
              " * @param {string} outputId Element ID of the output display.\n",
              " * @return {!Iterable<!Object>} Iterable of next steps.\n",
              " */\n",
              "function* uploadFilesStep(inputId, outputId) {\n",
              "  const inputElement = document.getElementById(inputId);\n",
              "  inputElement.disabled = false;\n",
              "\n",
              "  const outputElement = document.getElementById(outputId);\n",
              "  outputElement.innerHTML = '';\n",
              "\n",
              "  const pickedPromise = new Promise((resolve) => {\n",
              "    inputElement.addEventListener('change', (e) => {\n",
              "      resolve(e.target.files);\n",
              "    });\n",
              "  });\n",
              "\n",
              "  const cancel = document.createElement('button');\n",
              "  inputElement.parentElement.appendChild(cancel);\n",
              "  cancel.textContent = 'Cancel upload';\n",
              "  const cancelPromise = new Promise((resolve) => {\n",
              "    cancel.onclick = () => {\n",
              "      resolve(null);\n",
              "    };\n",
              "  });\n",
              "\n",
              "  // Wait for the user to pick the files.\n",
              "  const files = yield {\n",
              "    promise: Promise.race([pickedPromise, cancelPromise]),\n",
              "    response: {\n",
              "      action: 'starting',\n",
              "    }\n",
              "  };\n",
              "\n",
              "  cancel.remove();\n",
              "\n",
              "  // Disable the input element since further picks are not allowed.\n",
              "  inputElement.disabled = true;\n",
              "\n",
              "  if (!files) {\n",
              "    return {\n",
              "      response: {\n",
              "        action: 'complete',\n",
              "      }\n",
              "    };\n",
              "  }\n",
              "\n",
              "  for (const file of files) {\n",
              "    const li = document.createElement('li');\n",
              "    li.append(span(file.name, {fontWeight: 'bold'}));\n",
              "    li.append(span(\n",
              "        `(${file.type || 'n/a'}) - ${file.size} bytes, ` +\n",
              "        `last modified: ${\n",
              "            file.lastModifiedDate ? file.lastModifiedDate.toLocaleDateString() :\n",
              "                                    'n/a'} - `));\n",
              "    const percent = span('0% done');\n",
              "    li.appendChild(percent);\n",
              "\n",
              "    outputElement.appendChild(li);\n",
              "\n",
              "    const fileDataPromise = new Promise((resolve) => {\n",
              "      const reader = new FileReader();\n",
              "      reader.onload = (e) => {\n",
              "        resolve(e.target.result);\n",
              "      };\n",
              "      reader.readAsArrayBuffer(file);\n",
              "    });\n",
              "    // Wait for the data to be ready.\n",
              "    let fileData = yield {\n",
              "      promise: fileDataPromise,\n",
              "      response: {\n",
              "        action: 'continue',\n",
              "      }\n",
              "    };\n",
              "\n",
              "    // Use a chunked sending to avoid message size limits. See b/62115660.\n",
              "    let position = 0;\n",
              "    do {\n",
              "      const length = Math.min(fileData.byteLength - position, MAX_PAYLOAD_SIZE);\n",
              "      const chunk = new Uint8Array(fileData, position, length);\n",
              "      position += length;\n",
              "\n",
              "      const base64 = btoa(String.fromCharCode.apply(null, chunk));\n",
              "      yield {\n",
              "        response: {\n",
              "          action: 'append',\n",
              "          file: file.name,\n",
              "          data: base64,\n",
              "        },\n",
              "      };\n",
              "\n",
              "      let percentDone = fileData.byteLength === 0 ?\n",
              "          100 :\n",
              "          Math.round((position / fileData.byteLength) * 100);\n",
              "      percent.textContent = `${percentDone}% done`;\n",
              "\n",
              "    } while (position < fileData.byteLength);\n",
              "  }\n",
              "\n",
              "  // All done.\n",
              "  yield {\n",
              "    response: {\n",
              "      action: 'complete',\n",
              "    }\n",
              "  };\n",
              "}\n",
              "\n",
              "scope.google = scope.google || {};\n",
              "scope.google.colab = scope.google.colab || {};\n",
              "scope.google.colab._files = {\n",
              "  _uploadFiles,\n",
              "  _uploadFilesContinue,\n",
              "};\n",
              "})(self);\n",
              "</script> "
            ]
          },
          "metadata": {}
        },
        {
          "output_type": "stream",
          "name": "stdout",
          "text": [
            "Saved datasets.zip to /content/datasets.zip\n"
          ]
        }
      ],
      "source": [
        "from google.colab import files\n",
        "files.upload_file('datasets.zip')"
      ]
    },
    {
      "cell_type": "code",
      "source": [
        "!unzip '/content/datasets.zip'"
      ],
      "metadata": {
        "colab": {
          "base_uri": "https://localhost:8080/"
        },
        "id": "cwWHKlYwSc5P",
        "outputId": "46799aed-1707-4909-f330-6af523ac6452"
      },
      "execution_count": 2,
      "outputs": [
        {
          "output_type": "stream",
          "name": "stdout",
          "text": [
            "Archive:  /content/datasets.zip\n",
            "   creating: datasets/\n",
            "  inflating: datasets/alonso_m_full_texts.pkl  \n",
            "  inflating: datasets/anderson_imbert_full_texts.pkl  \n",
            "  inflating: datasets/arenal_full_texts.pkl  \n",
            "  inflating: datasets/arguedas_full_texts.pkl  \n",
            "  inflating: datasets/arlt_full_texts.pkl  \n",
            "  inflating: datasets/arredondo_full_texts.pkl  \n",
            "  inflating: datasets/arreola_full_texts.pkl  \n",
            "  inflating: datasets/baldomero_full_texts.pkl  \n",
            "  inflating: datasets/bareiro_saguier_full_texts.pkl  \n",
            "  inflating: datasets/benedetti_full_texts.pkl  \n",
            "  inflating: datasets/bioy_casares_full_texts.pkl  \n",
            "  inflating: datasets/bombal_full_texts.pkl  \n",
            "  inflating: datasets/borges_full_texts.pkl  \n",
            "  inflating: datasets/bosch_full_texts.pkl  \n",
            "  inflating: datasets/carpentier_full_texts.pkl  \n",
            "  inflating: datasets/carrington_full_texts.pkl  \n",
            "  inflating: datasets/cortazar_full_texts.pkl  \n",
            "  inflating: datasets/dabove_full_texts.pkl  \n",
            "  inflating: datasets/davila_full_texts.pkl  \n",
            "  inflating: datasets/de_la_parra_full_texts.pkl  \n",
            "  inflating: datasets/donoso_full_texts.pkl  \n",
            "  inflating: datasets/echeverría_full_texts.pkl  \n",
            "  inflating: datasets/edwards_j_full_texts.pkl  \n",
            "  inflating: datasets/fernandez_m_full_texts.pkl  \n",
            "  inflating: datasets/freyre_full_texts.pkl  \n",
            "  inflating: datasets/gallegos_full_texts.pkl  \n",
            "  inflating: datasets/garmendia_full_texts.pkl  \n",
            "  inflating: datasets/garro_full_texts.pkl  \n",
            "  inflating: datasets/grullon_full_texts.pkl  \n",
            "  inflating: datasets/gudino_kieffer_full_texts.pkl  \n",
            "  inflating: datasets/guiraldes_full_texts.pkl  \n",
            "  inflating: datasets/hernandez_f_full_texts.pkl  \n",
            "  inflating: datasets/huidobro_full_texts.pkl  \n",
            "  inflating: datasets/lezama_lima_full_texts.pkl  \n",
            "  inflating: datasets/lillo_full_texts.pkl  \n",
            "  inflating: datasets/lispector_full_texts.pkl  \n",
            "  inflating: datasets/lopez_y_fuentes_full_texts.pkl  \n",
            "  inflating: datasets/lyra_full_texts.pkl  \n",
            "  inflating: datasets/monterroso_full_texts.pkl  \n",
            "  inflating: datasets/mutis_full_texts.pkl  \n",
            "  inflating: datasets/ocampo_full_texts.pkl  \n",
            "  inflating: datasets/palacio_full_texts.pkl  \n",
            "  inflating: datasets/paz_o_full_texts.pkl  \n",
            "  inflating: datasets/pinera_full_texts.pkl  \n",
            "  inflating: datasets/pitol_full_texts.pkl  \n",
            "  inflating: datasets/reyes_full_texts.pkl  \n",
            "  inflating: datasets/ribeyro_full_texts.pkl  \n",
            "  inflating: datasets/rivera_a_full_texts.pkl  \n",
            "  inflating: datasets/romero_de_terreros_full_texts.pkl  \n",
            "  inflating: datasets/ruben_dario_full_texts.pkl  \n",
            "  inflating: datasets/rulfo_full_texts.pkl  \n",
            "  inflating: datasets/salarrue_full_texts.pkl  \n",
            "  inflating: datasets/torri_full_texts.pkl  \n",
            "  inflating: datasets/valades_full_texts.pkl  \n",
            "  inflating: datasets/vidales_full_texts.pkl  \n",
            "  inflating: datasets/walsh_r_full_texts.pkl  \n",
            "  inflating: datasets/wilcock_full_texts.pkl  \n",
            "  inflating: datasets/zeledon_full_texts.pkl  \n"
          ]
        }
      ]
    },
    {
      "cell_type": "code",
      "source": [
        "!pip install transformers"
      ],
      "metadata": {
        "colab": {
          "base_uri": "https://localhost:8080/"
        },
        "id": "5r_qy-Znc5sg",
        "outputId": "216058c7-4ce0-4c65-b313-609285fbe20c"
      },
      "execution_count": 3,
      "outputs": [
        {
          "output_type": "stream",
          "name": "stdout",
          "text": [
            "Looking in indexes: https://pypi.org/simple, https://us-python.pkg.dev/colab-wheels/public/simple/\n",
            "Collecting transformers\n",
            "  Downloading transformers-4.27.2-py3-none-any.whl (6.8 MB)\n",
            "\u001b[2K     \u001b[90m━━━━━━━━━━━━━━━━━━━━━━━━━━━━━━━━━━━━━━━━\u001b[0m \u001b[32m6.8/6.8 MB\u001b[0m \u001b[31m45.5 MB/s\u001b[0m eta \u001b[36m0:00:00\u001b[0m\n",
            "\u001b[?25hCollecting huggingface-hub<1.0,>=0.11.0\n",
            "  Downloading huggingface_hub-0.13.3-py3-none-any.whl (199 kB)\n",
            "\u001b[2K     \u001b[90m━━━━━━━━━━━━━━━━━━━━━━━━━━━━━━━━━━━━━━\u001b[0m \u001b[32m199.8/199.8 KB\u001b[0m \u001b[31m18.4 MB/s\u001b[0m eta \u001b[36m0:00:00\u001b[0m\n",
            "\u001b[?25hRequirement already satisfied: requests in /usr/local/lib/python3.9/dist-packages (from transformers) (2.27.1)\n",
            "Collecting tokenizers!=0.11.3,<0.14,>=0.11.1\n",
            "  Downloading tokenizers-0.13.2-cp39-cp39-manylinux_2_17_x86_64.manylinux2014_x86_64.whl (7.6 MB)\n",
            "\u001b[2K     \u001b[90m━━━━━━━━━━━━━━━━━━━━━━━━━━━━━━━━━━━━━━━━\u001b[0m \u001b[32m7.6/7.6 MB\u001b[0m \u001b[31m64.1 MB/s\u001b[0m eta \u001b[36m0:00:00\u001b[0m\n",
            "\u001b[?25hRequirement already satisfied: numpy>=1.17 in /usr/local/lib/python3.9/dist-packages (from transformers) (1.22.4)\n",
            "Requirement already satisfied: pyyaml>=5.1 in /usr/local/lib/python3.9/dist-packages (from transformers) (6.0)\n",
            "Requirement already satisfied: regex!=2019.12.17 in /usr/local/lib/python3.9/dist-packages (from transformers) (2022.10.31)\n",
            "Requirement already satisfied: filelock in /usr/local/lib/python3.9/dist-packages (from transformers) (3.10.0)\n",
            "Requirement already satisfied: tqdm>=4.27 in /usr/local/lib/python3.9/dist-packages (from transformers) (4.65.0)\n",
            "Requirement already satisfied: packaging>=20.0 in /usr/local/lib/python3.9/dist-packages (from transformers) (23.0)\n",
            "Requirement already satisfied: typing-extensions>=3.7.4.3 in /usr/local/lib/python3.9/dist-packages (from huggingface-hub<1.0,>=0.11.0->transformers) (4.5.0)\n",
            "Requirement already satisfied: charset-normalizer~=2.0.0 in /usr/local/lib/python3.9/dist-packages (from requests->transformers) (2.0.12)\n",
            "Requirement already satisfied: certifi>=2017.4.17 in /usr/local/lib/python3.9/dist-packages (from requests->transformers) (2022.12.7)\n",
            "Requirement already satisfied: idna<4,>=2.5 in /usr/local/lib/python3.9/dist-packages (from requests->transformers) (3.4)\n",
            "Requirement already satisfied: urllib3<1.27,>=1.21.1 in /usr/local/lib/python3.9/dist-packages (from requests->transformers) (1.26.15)\n",
            "Installing collected packages: tokenizers, huggingface-hub, transformers\n",
            "Successfully installed huggingface-hub-0.13.3 tokenizers-0.13.2 transformers-4.27.2\n"
          ]
        }
      ]
    },
    {
      "cell_type": "code",
      "source": [
        "import os\n",
        "from tqdm import tqdm\n",
        "import pandas as pd\n",
        "from pandas import json_normalize\n",
        "import pickle"
      ],
      "metadata": {
        "id": "xOnLThoVTCE3"
      },
      "execution_count": 4,
      "outputs": []
    },
    {
      "cell_type": "code",
      "source": [
        "dirs = os.listdir('/content/datasets')"
      ],
      "metadata": {
        "id": "sQZApE2fVQPL"
      },
      "execution_count": 5,
      "outputs": []
    },
    {
      "cell_type": "code",
      "source": [
        "b = pickle.load(open('/content/datasets/mutis_full_texts.pkl', 'rb'))\n",
        "b.text[0]"
      ],
      "metadata": {
        "colab": {
          "base_uri": "https://localhost:8080/",
          "height": 122
        },
        "id": "6syBxl3nWYS5",
        "outputId": "39e25d7e-0cea-45a0-bbef-d5c42d40d7a5"
      },
      "execution_count": 6,
      "outputs": [
        {
          "output_type": "execute_result",
          "data": {
            "text/plain": [
              "'Soy capitán del 3º de Lanceros de la Guardia Imperial, al mando del coronel Tadeuz Lonczynski. Voy a morir a consecuencia de las heridas que recibí en una emboscada de los desertores del Cuerpo de Zapadores de Hesse. Chapoteo en mi propia sangre cada vez que trato de volverme buscando el imposible alivio al dolor de mis huesos destrozados por la metralla. Antes de que el vidrio azul de la agonía invada mis arterias y confunda mis palabras, quiero confesar aquí mi amor, mi desordenado, secreto, inmenso, delicioso, ebrio amor por la condesa Krystina Krasinska, mi hermana. Que Dios me perdone las arduas vigilias de fiebre y deseo que pasé por ella, durante nuestro último verano en la casa de campo de nuestros padres en Katowicze. En todo instante he sabido guardar silencio. Ojalá se me tenga en cuenta en breve, cuando comparezca ante la Presencia Ineluctable. ¡Y pensar que ella rezará por mi alma al lado de su esposo y de sus hijos! FIN'"
            ],
            "application/vnd.google.colaboratory.intrinsic+json": {
              "type": "string"
            }
          },
          "metadata": {},
          "execution_count": 6
        }
      ]
    },
    {
      "cell_type": "code",
      "source": [
        "data = dict()\n",
        "for pkl in tqdm(dirs):\n",
        "  try:\n",
        "      book = pickle.load(open('/content/datasets/'+pkl, 'rb'))\n",
        "      for idx in range(len(book.text_metadata)):\n",
        "        data[idx] = {\n",
        "            'title': book.text_metadata[idx]['title'],\n",
        "            'text': book.text[idx]\n",
        "        }\n",
        "  except:\n",
        "    pass"
      ],
      "metadata": {
        "colab": {
          "base_uri": "https://localhost:8080/"
        },
        "id": "ojo1548SVTMt",
        "outputId": "91e8652b-3ac5-4efb-bc87-a2577b87b472"
      },
      "execution_count": 7,
      "outputs": [
        {
          "output_type": "stream",
          "name": "stderr",
          "text": [
            "100%|██████████| 58/58 [00:00<00:00, 1194.81it/s]\n"
          ]
        }
      ]
    },
    {
      "cell_type": "code",
      "source": [
        "print(data[0])"
      ],
      "metadata": {
        "colab": {
          "base_uri": "https://localhost:8080/"
        },
        "id": "Bp0k9BRxVrs5",
        "outputId": "4be02322-4c94-4254-f6f4-3f3edc0cd022"
      },
      "execution_count": 8,
      "outputs": [
        {
          "output_type": "stream",
          "name": "stdout",
          "text": [
            "{'title': 'El acto libre', 'text': 'La Secretaria privada del Señor X, Director General de la Confederación Internacional de la Producción Universal, entró tímidamente en su privadísimo despacho con una tarjeta en la mano. Se la entregó balbuceando. -Es un señor que solicita hablar con Ud. -¡Que vuelva otro día! ¡Estoy ocupado! -Es que este señor ha estado viniendo, día a día, desde hace ocho meses, don Alcibíades. -¡Ah! ¿Sí? ¡Y cómo no me lo había dicho antes! ¿De qué se trata? -No quiere decir. Asegura que es un asunto privado. X pensó un poco; luego, botando la tarjeta al canasto sin mirarla, decidió: -Hágalo entrar. La verdad era que, en ese momento, no tenía nada que hacer. Casi al instante apareció un viejito semijorobado, con un inmenso cartapacio debajo del brazo. Hizo una reverencia y se sentó frente al inaccesible magnate. -¿En qué puedo servirle? -rugió X con una voz que estaba a punto de dar por terminada la entrevista. -En nada. -¿Cómo en nada? -Soy yo el que puede servirle a usted; tengo un documento que creo puede interesarle. En la forma más suave y silenciosa posible, dejó caer un descomunal volumen encima del escritorio. X se sacó los anteojos; era un recurso que usaba frecuentemente con el objeto de pulverizar a sus interlocutores: su mirada miope tenía una expresión a la vez implacable y penetrante. -¿Cómo así? -bufó. -En estas páginas está escrita toda la historia de su vida pasada… -¡Ah! ¡Chantaje! ¡Yo no invierto dinero en ese tipo de cosas! -…y también la historia de su vida futura. -¿De mi vida futura? ¿Está usted loco? Por toda respuesta, el viejito dio vuelta trabajosamente el pesado tomo, colocándoselo de frente. -Obsérvelo un poco, si gusta -insinuó. X abrió el libro con avidez, calándose una vez más los anteojos. -Puede usted estar seguro que no obtendrá un centavo de mi dinero -estableció, mientras se sumergía voluptuosamente en la lectura. Hojeó rápidamente las primeras páginas: su niñez, su juventud. ¡Bah! No era difícil informarse de estas cosas con un poco de trabajo. Algunos detalles llegaron a sorprenderlo, sin embargo, en forma golpeante. ¿Cómo había podido alguien llegar a conocer los juegos y fantasías a que él se entregaba a los cuatro años, cuando defecaba interminablemente, sentado en su vieja y olvidada bacinica celeste? ¿Y sus calcomanías? ¿Su sapo de celuloide? ¿Su primera bicicleta? ¡Hasta la marca estaba indicada con acuciosa precisión! Lo que más le interesaba, sin embargo, eran otras cosas. Ciertos pormenores indiscretos de sucesos ocurridos en su juventud y, muy especialmente, después de su juventud. Todo estaba registrado, por cierto, con lujo de detalles. En seguida, empezó a hurgar datos referentes a sus negocios: los secretos de su contabilidad. Después de unos diez o veinte minutos de lectura, su respiración se había hecho difícil y un sudor tibio le humedecía, en forma desagradable, la frente, el cuello y hasta la barriga. ¡Aquel libro era una verdadera bomba! De pronto lo cerró y volvió a sacarse mecánicamente los anteojos, pero se los puso de nuevo enseguida. -Su libro no me interesa -declaró enfáticamente, esperando aterrado la reacción de su adversario. Pero el jorobado viejito no se inmutó, sacando, a modo de réplica, un segundo volumen de su cartapacio; se trataba de un documento bastante más reducido. -Aquí puede leer usted un poco de su futuro. -¿De mi futuro? -Bueno, tal vez ya ha dejado de serlo. Es la breve historia de lo ocurrido entre usted y yo, desde que entré a esta oficina. X abrió el segundo libro, esta vez sin hacer ningún comentario. Después de leer algunos párrafos, dejó de sudar bruscamente, un frío intenso empezó a recorrer su cuerpo y, sin poder evitarlo, se puso a temblar como una gallina. ¿Qué significaba todo aquello? ¿Acaso se estaba volviendo loco? El libro estaba allí, no obstante, sólido y tangible, y las letras se destacaban claramente sobre el papel. Sus últimas palabras, las que acababa de pronunciar, aparecieron escritas en letras de molde, como también sus últimos pensamientos, el orden exacto de su reciente lectura, sus sensaciones aun frescas y hasta la descripción detallada de cómo y cuándo se había quitado y colocado los anteojos. Sin saber qué hacer, procedió a soltarse un poco la corbata y, en ese mismo instante, pensó con horror que este gesto suyo estaría ya escrito, con toda seguridad, en las primeras páginas del último volumen que el viejo conservaba dentro del cartapacio. Entonces, se enfureció de golpe. ¿Acaso era posible, después de todo, que él no fuera otra cosa que un muñeco, un esclavo o un títere, en manos de ese viejo infeliz? ¿Que todos sus actos pasados, presentes y futuros, estuvieran de antemano ordenados y escritos en ese ridículo libraco? Sin pensar qué hacía, se lanzó sobre su anciano visitante, procurando arrebatarle por la fuerza el último tomo. El viejo se defendió en forma obstinada, produciéndose entre ambos una especie de pugilato o forcejeo un tanto indecoroso que se prolongó por varios minutos, durante los cuales, afortunadamente, no sonó el teléfono ni entró nadie a la oficina. A pesar de su aspecto frágil, el viejo poseía un insospechado caudal de energía física; pero X era por lo menos veinte años más joven, treinta o cuarenta kilos más pesado y, además, luchaba por algo que le pertenecía: su futuro, su vida y su libertad. Uno por uno fue torciendo los dedos del anciano, hasta obligarlo a soltar el pesadísimo volumen. Por fin, ya triunfante, volvió a sentarse como si nada hubiera ocurrido, dando comienzo a su tercera y última lectura. La historia se iniciaba, como lo había sospechado, con el asunto de la corbata. Luego se refería a la sospecha misma que había cruzado su mente: que aquello ya estaba escrito. Enseguida consignaba su furia y el acto ciego de arrojarse sobre el viejo. Después, narraba con increíble fidelidad todos los detalles del silencioso combate, su victoria final y la iniciación de la lectura. La página siguiente describía la lectura misma, y la subsiguiente la segunda lectura. Y así continuó X, página tras página, leyendo la precisa descripción de cómo leía: corbata – sospecha – furia – pugilato – victoria – lectura – corbata. Un obscuro instinto le decía que, si abandonaba el libro por un momento, éste empezaría a actuar por su cuenta, es decir a impartirle órdenes y a dominarlo. Por otra parte, si lo destruía sin leerlo, quedaría para siempre esclavizado a él: no podría dejar de pensar que, cualquier cosa que hiciera en el futuro, buena o mala, disparatada o sensata, ya habría estado escrita y anunciada en alguna de sus páginas. Su única defensa parecía consistir, por lo tanto, en seguir aferrado al texto, sin dejar pasar una letra, una sílaba o una coma. Abrigaba, tal vez, la insensata esperanza de vencerlo por la velocidad, o sea, de leer con tal rapidez que pudiera en un momento dado llegar antes que él al futuro. En esta forma lograría, por fin, contradecirlo, ejecutando el ansiado Acto Libre o liberador. El libro parecía adaptarse, sin embargo, al ritmo de la lectura, con la automática precisión de un reflejo o una sombra, mientras más rápidamente leía más rápidamente lo informaba de cómo había leído y con cuánta rapidez. Si, haciendo una trampa, se saltaba una o varias páginas, el libro ejecutaba el mismo salto, a la manera de un steeplechase o carrera de obstáculos; al explorar la última página, lo único que encontraba era el hecho ya conocido de que la había explorado y, si volvía atrás, leía que había vuelto atrás. Después de un lapso no determinado, el viejito, vencido tal vez por el aburrimiento, se retiró en puntillas quién sabe hacia dónde y no ha vuelto a vérsele más. En cuanto a X, por todo lo que sabemos, continúa leyendo o leyéndose leer, apresado en la trampa de su propia libertad, o de su propia clarividencia, sin atreverse a pestañear o a mover los ojos del texto, hasta el día de hoy. FIN Agradecemos a Simón Ergas su aportación de este cuento a la Biblioteca Digital Ciudad Seva.'}\n"
          ]
        }
      ]
    },
    {
      "cell_type": "code",
      "source": [
        "cuentos = pd.DataFrame.from_dict(data, orient='index')"
      ],
      "metadata": {
        "id": "lRZPe4kHYLHT"
      },
      "execution_count": 9,
      "outputs": []
    },
    {
      "cell_type": "code",
      "source": [
        "cuentos.shape"
      ],
      "metadata": {
        "colab": {
          "base_uri": "https://localhost:8080/"
        },
        "id": "rTCnSjxJawdf",
        "outputId": "828c8919-25a6-41d1-fa3a-f7b02437c34e"
      },
      "execution_count": 10,
      "outputs": [
        {
          "output_type": "execute_result",
          "data": {
            "text/plain": [
              "(62, 2)"
            ]
          },
          "metadata": {},
          "execution_count": 10
        }
      ]
    },
    {
      "cell_type": "code",
      "source": [
        "textos = cuentos[['text']]"
      ],
      "metadata": {
        "id": "u_0ChkVtdX_h"
      },
      "execution_count": 11,
      "outputs": []
    },
    {
      "cell_type": "code",
      "source": [
        "textos.head()"
      ],
      "metadata": {
        "colab": {
          "base_uri": "https://localhost:8080/",
          "height": 206
        },
        "id": "614w6GetdcI8",
        "outputId": "188ed099-c024-4803-9535-109467886c96"
      },
      "execution_count": 12,
      "outputs": [
        {
          "output_type": "execute_result",
          "data": {
            "text/plain": [
              "                                                text\n",
              "0  La Secretaria privada del Señor X, Director Ge...\n",
              "1  Un accidente sin importancia (la transitoria d...\n",
              "2  El asunto ocurrió hace mucho tiempo, cuando yo...\n",
              "3  –Usted fue, sí, usted fue. –¿Señora…? –Le digo...\n",
              "4  “Anoche, a las doce y media próximamente, el c..."
            ],
            "text/html": [
              "\n",
              "  <div id=\"df-554c7eaf-1e72-4b34-b2fc-8104d4720175\">\n",
              "    <div class=\"colab-df-container\">\n",
              "      <div>\n",
              "<style scoped>\n",
              "    .dataframe tbody tr th:only-of-type {\n",
              "        vertical-align: middle;\n",
              "    }\n",
              "\n",
              "    .dataframe tbody tr th {\n",
              "        vertical-align: top;\n",
              "    }\n",
              "\n",
              "    .dataframe thead th {\n",
              "        text-align: right;\n",
              "    }\n",
              "</style>\n",
              "<table border=\"1\" class=\"dataframe\">\n",
              "  <thead>\n",
              "    <tr style=\"text-align: right;\">\n",
              "      <th></th>\n",
              "      <th>text</th>\n",
              "    </tr>\n",
              "  </thead>\n",
              "  <tbody>\n",
              "    <tr>\n",
              "      <th>0</th>\n",
              "      <td>La Secretaria privada del Señor X, Director Ge...</td>\n",
              "    </tr>\n",
              "    <tr>\n",
              "      <th>1</th>\n",
              "      <td>Un accidente sin importancia (la transitoria d...</td>\n",
              "    </tr>\n",
              "    <tr>\n",
              "      <th>2</th>\n",
              "      <td>El asunto ocurrió hace mucho tiempo, cuando yo...</td>\n",
              "    </tr>\n",
              "    <tr>\n",
              "      <th>3</th>\n",
              "      <td>–Usted fue, sí, usted fue. –¿Señora…? –Le digo...</td>\n",
              "    </tr>\n",
              "    <tr>\n",
              "      <th>4</th>\n",
              "      <td>“Anoche, a las doce y media próximamente, el c...</td>\n",
              "    </tr>\n",
              "  </tbody>\n",
              "</table>\n",
              "</div>\n",
              "      <button class=\"colab-df-convert\" onclick=\"convertToInteractive('df-554c7eaf-1e72-4b34-b2fc-8104d4720175')\"\n",
              "              title=\"Convert this dataframe to an interactive table.\"\n",
              "              style=\"display:none;\">\n",
              "        \n",
              "  <svg xmlns=\"http://www.w3.org/2000/svg\" height=\"24px\"viewBox=\"0 0 24 24\"\n",
              "       width=\"24px\">\n",
              "    <path d=\"M0 0h24v24H0V0z\" fill=\"none\"/>\n",
              "    <path d=\"M18.56 5.44l.94 2.06.94-2.06 2.06-.94-2.06-.94-.94-2.06-.94 2.06-2.06.94zm-11 1L8.5 8.5l.94-2.06 2.06-.94-2.06-.94L8.5 2.5l-.94 2.06-2.06.94zm10 10l.94 2.06.94-2.06 2.06-.94-2.06-.94-.94-2.06-.94 2.06-2.06.94z\"/><path d=\"M17.41 7.96l-1.37-1.37c-.4-.4-.92-.59-1.43-.59-.52 0-1.04.2-1.43.59L10.3 9.45l-7.72 7.72c-.78.78-.78 2.05 0 2.83L4 21.41c.39.39.9.59 1.41.59.51 0 1.02-.2 1.41-.59l7.78-7.78 2.81-2.81c.8-.78.8-2.07 0-2.86zM5.41 20L4 18.59l7.72-7.72 1.47 1.35L5.41 20z\"/>\n",
              "  </svg>\n",
              "      </button>\n",
              "      \n",
              "  <style>\n",
              "    .colab-df-container {\n",
              "      display:flex;\n",
              "      flex-wrap:wrap;\n",
              "      gap: 12px;\n",
              "    }\n",
              "\n",
              "    .colab-df-convert {\n",
              "      background-color: #E8F0FE;\n",
              "      border: none;\n",
              "      border-radius: 50%;\n",
              "      cursor: pointer;\n",
              "      display: none;\n",
              "      fill: #1967D2;\n",
              "      height: 32px;\n",
              "      padding: 0 0 0 0;\n",
              "      width: 32px;\n",
              "    }\n",
              "\n",
              "    .colab-df-convert:hover {\n",
              "      background-color: #E2EBFA;\n",
              "      box-shadow: 0px 1px 2px rgba(60, 64, 67, 0.3), 0px 1px 3px 1px rgba(60, 64, 67, 0.15);\n",
              "      fill: #174EA6;\n",
              "    }\n",
              "\n",
              "    [theme=dark] .colab-df-convert {\n",
              "      background-color: #3B4455;\n",
              "      fill: #D2E3FC;\n",
              "    }\n",
              "\n",
              "    [theme=dark] .colab-df-convert:hover {\n",
              "      background-color: #434B5C;\n",
              "      box-shadow: 0px 1px 3px 1px rgba(0, 0, 0, 0.15);\n",
              "      filter: drop-shadow(0px 1px 2px rgba(0, 0, 0, 0.3));\n",
              "      fill: #FFFFFF;\n",
              "    }\n",
              "  </style>\n",
              "\n",
              "      <script>\n",
              "        const buttonEl =\n",
              "          document.querySelector('#df-554c7eaf-1e72-4b34-b2fc-8104d4720175 button.colab-df-convert');\n",
              "        buttonEl.style.display =\n",
              "          google.colab.kernel.accessAllowed ? 'block' : 'none';\n",
              "\n",
              "        async function convertToInteractive(key) {\n",
              "          const element = document.querySelector('#df-554c7eaf-1e72-4b34-b2fc-8104d4720175');\n",
              "          const dataTable =\n",
              "            await google.colab.kernel.invokeFunction('convertToInteractive',\n",
              "                                                     [key], {});\n",
              "          if (!dataTable) return;\n",
              "\n",
              "          const docLinkHtml = 'Like what you see? Visit the ' +\n",
              "            '<a target=\"_blank\" href=https://colab.research.google.com/notebooks/data_table.ipynb>data table notebook</a>'\n",
              "            + ' to learn more about interactive tables.';\n",
              "          element.innerHTML = '';\n",
              "          dataTable['output_type'] = 'display_data';\n",
              "          await google.colab.output.renderOutput(dataTable, element);\n",
              "          const docLink = document.createElement('div');\n",
              "          docLink.innerHTML = docLinkHtml;\n",
              "          element.appendChild(docLink);\n",
              "        }\n",
              "      </script>\n",
              "    </div>\n",
              "  </div>\n",
              "  "
            ]
          },
          "metadata": {},
          "execution_count": 12
        }
      ]
    },
    {
      "cell_type": "code",
      "source": [
        "from sklearn.model_selection import train_test_split # VALIDACION Y TEST SPLITEADOS EN UN PORCENTAJE\n",
        "import re # LIBRERIA PARA TRABAJAR CON EXPRESIONES REGULARES"
      ],
      "metadata": {
        "id": "XUzYG2Oha3vH"
      },
      "execution_count": 13,
      "outputs": []
    },
    {
      "cell_type": "code",
      "source": [
        "# CON ESTA FUNCIONALIDAD PRETENDEMOS CREAR UN ARCHIVO DE TRAIN Y TEST CON VECTORES QUE INDIQUEN LOS TEXTOS TOKENIZADOS\n",
        "def build_text_files(cuentos, destino):\n",
        "    f = open(destino, 'w')\n",
        "    data = ''\n",
        "    for cuento in cuentos:\n",
        "        try:\n",
        "          summary = str(cuento).strip()\n",
        "          summary = re.sub(r\"\\s\", \" \", summary)\n",
        "          data += summary + \"  \"\n",
        "        except:\n",
        "          pass\n",
        "    f.write(data)\n",
        "    return data\n"
      ],
      "metadata": {
        "id": "YahjFxWYcnoI"
      },
      "execution_count": 14,
      "outputs": []
    },
    {
      "cell_type": "code",
      "source": [
        "train, test = train_test_split(cuentos,test_size=0.20) # TOMAMOS EL 15% DE NUESTRA DATA PARA TEST"
      ],
      "metadata": {
        "id": "b3ResvYNdL5a"
      },
      "execution_count": 15,
      "outputs": []
    },
    {
      "cell_type": "code",
      "source": [
        "build_text_files(train['text'].values,'/content/train_dataset.txt')\n",
        "build_text_files(test['text'].values,'/content/test_dataset.txt')\n",
        "\n",
        "print(\"Train dataset length: \"+str(len(train))) # VISUALIZAMOS LA LONGITUD DE NUESTRO DATASET\n",
        "print(\"Test dataset length: \"+ str(len(test)))"
      ],
      "metadata": {
        "colab": {
          "base_uri": "https://localhost:8080/"
        },
        "id": "v6Tceuk9dLIS",
        "outputId": "c0433006-7398-4ac9-ba0a-3060b9663434"
      },
      "execution_count": 16,
      "outputs": [
        {
          "output_type": "stream",
          "name": "stdout",
          "text": [
            "Train dataset length: 49\n",
            "Test dataset length: 13\n"
          ]
        }
      ]
    },
    {
      "cell_type": "code",
      "source": [
        "from transformers import AutoTokenizer # IMPORTAMOS NUESTRO TOKENIZER BASANDONOS EN UN MODELO ESPANYOL EN GPT2\n",
        "\n",
        "tokenizer = AutoTokenizer.from_pretrained(\"DeepESP/gpt2-spanish\")\n",
        "\n",
        "train_path = '/content/train_dataset.txt'\n",
        "test_path = '/content/test_dataset.txt'"
      ],
      "metadata": {
        "id": "yNHFq2CHdl5b",
        "colab": {
          "base_uri": "https://localhost:8080/",
          "height": 177,
          "referenced_widgets": [
            "d50c3bda21ab4082ad32964e8b3a8a11",
            "7d1b3da0da0346fc828deb0c5706588c",
            "46b1536df8c84b02a3e41480e27346f9",
            "0eef4fea28b24cc3af2698f6fa090131",
            "0334503ce93a4efcb9665b1af5094745",
            "76febb58eec74dfba3809feb5e5844da",
            "892213bed6bd46c2804b0c66e7c26d5e",
            "a9f3753ab01642a097943b1ccc95c689",
            "74e0c311c71c4f65aeb5463ba7528a35",
            "ff72793673d74e42ac016723eea48638",
            "c632ccbd4e9a4931a8456a2d196fa6dc",
            "2574d7637a944121b0fe062cf016b40a",
            "11b549b9cd9045e8b5ad40f1101a0079",
            "7264fa2f6ee3447cb1ae63c227131cdd",
            "ba7b8f98cf0c46878bc6ab992838f05d",
            "483d66714d7a487b8ddddcc21842d44a",
            "4f117861516944d080ecc0416fb3adce",
            "7332700cef53485f8c52fe35c52eb15a",
            "75678b4a9f544e49826c00c92e0b458c",
            "2b8777fef34341fdb3c1394c81a20534",
            "9bf04afd194c42438cbb39f4f83ecbd2",
            "91e7cd97802b4ff6ac0e02fe5ba52215",
            "060e8db906f74953bd3f1888807980f0",
            "590b6fe741dc42c4be35f4692f03de2f",
            "637829570bfa443b901f5c46505f4c57",
            "a408d9d4b65f41ac892d33be614c05d9",
            "511259517152433588389c2aaf802bda",
            "749a32aa1c044b8db416b1945309a2cf",
            "fdc0ffc9e0fd46609477141910bb71cb",
            "8ee0aafc7b064f91b2aaad0b1afbce26",
            "1bd69b1ddf7c49768b577594c53187c5",
            "7ad1574a36044317a1c99d675f5960c0",
            "9005d0465b694ee09a28748676a49a5c",
            "9dc0c924780e46f2bdcd7075891b7acf",
            "d2ee84ee0a9b4866a1442fa9a75b92b5",
            "50e090bed903431fa9f6178a17b6412b",
            "6e7769be7198413c8d650f75c3af0ce8",
            "1a0f7e3788684ad2ada5c9db4e46d179",
            "b74eaca572b94a12aad03fd4dd742235",
            "ef89cacadfed42a0825bcfb6ddf030e5",
            "da40de8f21204e6499af82a87e90f6a7",
            "1f82e024bd9d4652ad4ddf378d6f0310",
            "eab8f78201074bb6a8b696c990efb2c3",
            "07312fc914234462bdee556f4910d541",
            "34978713ba2549a3966ae732c3a66c20",
            "7858c7c48be24f24833c394bb57ef0be",
            "3fe4173bb5af46588f3dd0a7deab5c9e",
            "09edecf37f6b4b6b8ed894d170bea3ac",
            "f220d21c6f4a4eb796e11cdc298050f8",
            "4e9a112c82c9499fa660c5ec06c64882",
            "9d75abd61c4345d283904578ce3253f0",
            "993cc28ba11b4f29a42a936333f823b4",
            "4ad4b92bc1ce42efa596db73f43c2985",
            "0f5fcd88ae0e450faaf8fae382683b5f",
            "a0679373db2f4dae95ef5ac55d94126b"
          ]
        },
        "outputId": "2b4d73af-4040-479a-ea54-e1268e91aa25"
      },
      "execution_count": 17,
      "outputs": [
        {
          "output_type": "display_data",
          "data": {
            "text/plain": [
              "Downloading (…)okenizer_config.json:   0%|          | 0.00/115 [00:00<?, ?B/s]"
            ],
            "application/vnd.jupyter.widget-view+json": {
              "version_major": 2,
              "version_minor": 0,
              "model_id": "d50c3bda21ab4082ad32964e8b3a8a11"
            }
          },
          "metadata": {}
        },
        {
          "output_type": "display_data",
          "data": {
            "text/plain": [
              "Downloading (…)lve/main/config.json:   0%|          | 0.00/914 [00:00<?, ?B/s]"
            ],
            "application/vnd.jupyter.widget-view+json": {
              "version_major": 2,
              "version_minor": 0,
              "model_id": "2574d7637a944121b0fe062cf016b40a"
            }
          },
          "metadata": {}
        },
        {
          "output_type": "display_data",
          "data": {
            "text/plain": [
              "Downloading (…)olve/main/vocab.json:   0%|          | 0.00/840k [00:00<?, ?B/s]"
            ],
            "application/vnd.jupyter.widget-view+json": {
              "version_major": 2,
              "version_minor": 0,
              "model_id": "060e8db906f74953bd3f1888807980f0"
            }
          },
          "metadata": {}
        },
        {
          "output_type": "display_data",
          "data": {
            "text/plain": [
              "Downloading (…)olve/main/merges.txt:   0%|          | 0.00/499k [00:00<?, ?B/s]"
            ],
            "application/vnd.jupyter.widget-view+json": {
              "version_major": 2,
              "version_minor": 0,
              "model_id": "9dc0c924780e46f2bdcd7075891b7acf"
            }
          },
          "metadata": {}
        },
        {
          "output_type": "display_data",
          "data": {
            "text/plain": [
              "Downloading (…)cial_tokens_map.json:   0%|          | 0.00/262 [00:00<?, ?B/s]"
            ],
            "application/vnd.jupyter.widget-view+json": {
              "version_major": 2,
              "version_minor": 0,
              "model_id": "34978713ba2549a3966ae732c3a66c20"
            }
          },
          "metadata": {}
        }
      ]
    },
    {
      "cell_type": "code",
      "source": [
        "from transformers import TextDataset,DataCollatorForLanguageModeling # IMPORTAMOS NUESTRA UTILERIA PARA TRABAJAR CON TEXTOS Y PASARLOS A VECTORES\n",
        "\n",
        "def load_dataset(train_path,test_path,tokenizer):\n",
        "    train_dataset = TextDataset(\n",
        "          tokenizer=tokenizer,\n",
        "          file_path=train_path,\n",
        "        overwrite_cache=True,\n",
        "          block_size=128)\n",
        "\n",
        "    test_dataset = TextDataset(\n",
        "          tokenizer=tokenizer,\n",
        "          file_path=test_path,\n",
        "        overwrite_cache=True,\n",
        "          block_size=128)\n",
        "\n",
        "    data_collator = DataCollatorForLanguageModeling(\n",
        "        tokenizer=tokenizer, mlm=False,\n",
        "    )\n",
        "    return train_dataset,test_dataset,data_collator"
      ],
      "metadata": {
        "id": "YK2aMFxod1vv"
      },
      "execution_count": 24,
      "outputs": []
    },
    {
      "cell_type": "code",
      "source": [
        "train_dataset,test_dataset,data_collator = load_dataset(train_path,test_path,tokenizer) # LLAMAMOS A NUESTRA FUNCION"
      ],
      "metadata": {
        "id": "KPyrk58Bd-Lu"
      },
      "execution_count": 26,
      "outputs": []
    },
    {
      "cell_type": "code",
      "source": [
        "from transformers import Trainer, TrainingArguments, AutoModelWithLMHead # IMPORTAMOS EL ENTRENADOR, EL BUILD DE ARGUMENTOS Y EL MODELO CON MULTIPLE LAYERS HEADS\n",
        "\n",
        "model = AutoModelWithLMHead.from_pretrained(\"DeepESP/gpt2-spanish\")\n",
        "# CREAMOS NUESTROS ARGUMENTOS\n",
        "training_args = TrainingArguments(\n",
        "    output_dir=\"./gpt2-cuentos\", #The output directory\n",
        "    overwrite_output_dir=True, #overwrite the content of the output directory\n",
        "    num_train_epochs=15, # number of training epochs\n",
        "    per_device_train_batch_size=32, # batch size for training\n",
        "    per_device_eval_batch_size=64,  # batch size for evaluation\n",
        "    eval_steps = 400, # Number of update steps between two evaluations.\n",
        "    save_steps=800, # after # steps model is saved\n",
        "    warmup_steps=500,# number of warmup steps for learning rate scheduler\n",
        "    )\n",
        "\n",
        "# CREAMOS NUESTRO ENTRENADOR\n",
        "trainer = Trainer(\n",
        "    model=model, #MODELO\n",
        "    args=training_args, # ARGUMENTOS\n",
        "    data_collator=data_collator, #ALLOCATOR\n",
        "    train_dataset=train_dataset, #TRAIN\n",
        "    eval_dataset=test_dataset, #TEST\n",
        "    # prediction_loss_only=True,\n",
        "\n",
        ")"
      ],
      "metadata": {
        "id": "k9iorRzteBdd",
        "colab": {
          "base_uri": "https://localhost:8080/"
        },
        "outputId": "13ff973c-75ef-458f-c84f-fa7dd4b1c05d"
      },
      "execution_count": 29,
      "outputs": [
        {
          "output_type": "stream",
          "name": "stderr",
          "text": [
            "/usr/local/lib/python3.9/dist-packages/transformers/models/auto/modeling_auto.py:1295: FutureWarning: The class `AutoModelWithLMHead` is deprecated and will be removed in a future version. Please use `AutoModelForCausalLM` for causal language models, `AutoModelForMaskedLM` for masked language models and `AutoModelForSeq2SeqLM` for encoder-decoder models.\n",
            "  warnings.warn(\n"
          ]
        }
      ]
    },
    {
      "cell_type": "code",
      "source": [
        "trainer.train()"
      ],
      "metadata": {
        "colab": {
          "base_uri": "https://localhost:8080/",
          "height": 110
        },
        "id": "Zm1-DL4TFXQr",
        "outputId": "6f81badc-7c5f-4340-d125-b26a883472a3"
      },
      "execution_count": 30,
      "outputs": [
        {
          "output_type": "display_data",
          "data": {
            "text/plain": [
              "<IPython.core.display.HTML object>"
            ],
            "text/html": [
              "\n",
              "    <div>\n",
              "      \n",
              "      <progress value='390' max='390' style='width:300px; height:20px; vertical-align: middle;'></progress>\n",
              "      [390/390 06:49, Epoch 15/15]\n",
              "    </div>\n",
              "    <table border=\"1\" class=\"dataframe\">\n",
              "  <thead>\n",
              " <tr style=\"text-align: left;\">\n",
              "      <th>Step</th>\n",
              "      <th>Training Loss</th>\n",
              "    </tr>\n",
              "  </thead>\n",
              "  <tbody>\n",
              "  </tbody>\n",
              "</table><p>"
            ]
          },
          "metadata": {}
        },
        {
          "output_type": "execute_result",
          "data": {
            "text/plain": [
              "TrainOutput(global_step=390, training_loss=3.604100310496795, metrics={'train_runtime': 410.3566, 'train_samples_per_second': 29.645, 'train_steps_per_second': 0.95, 'total_flos': 794654392320000.0, 'train_loss': 3.604100310496795, 'epoch': 15.0})"
            ]
          },
          "metadata": {},
          "execution_count": 30
        }
      ]
    },
    {
      "cell_type": "code",
      "source": [
        "trainer.save_model()"
      ],
      "metadata": {
        "id": "ln6GODJKJZ99"
      },
      "execution_count": 31,
      "outputs": []
    },
    {
      "cell_type": "code",
      "source": [
        "from transformers import pipeline"
      ],
      "metadata": {
        "id": "jOuw6Ta5L6CS"
      },
      "execution_count": 34,
      "outputs": []
    },
    {
      "cell_type": "code",
      "source": [
        "storyTeller = pipeline(\"text-generation\", model=\"./gpt2-cuentos\", tokenizer=\"DeepESP/gpt2-spanish\")"
      ],
      "metadata": {
        "id": "fDXMusI-L9Mr"
      },
      "execution_count": 35,
      "outputs": []
    },
    {
      "cell_type": "code",
      "source": [
        "storyteller = storyTeller(\"Erase una vez\")[0][\"generated_text\"]\n",
        "print(storyteller)"
      ],
      "metadata": {
        "id": "J3mgI1jIMN5i",
        "outputId": "ea9ff548-22b9-4b16-b401-c6329c3f7670",
        "colab": {
          "base_uri": "https://localhost:8080/"
        }
      },
      "execution_count": 37,
      "outputs": [
        {
          "output_type": "stream",
          "name": "stderr",
          "text": [
            "Setting `pad_token_id` to `eos_token_id`:50256 for open-end generation.\n"
          ]
        },
        {
          "output_type": "stream",
          "name": "stdout",
          "text": [
            "Erase una vez a uno de los bandidos que se sentaba al pie de un pequeño estrado que había allí al lado del estrado con ese aire de indiferencia impropio de un individuo que lo ignora particularmente.” * * El hombre pareció desconcertado porque la\n"
          ]
        }
      ]
    },
    {
      "cell_type": "code",
      "source": [],
      "metadata": {
        "id": "PPc2enFVMlXn"
      },
      "execution_count": null,
      "outputs": []
    }
  ]
}